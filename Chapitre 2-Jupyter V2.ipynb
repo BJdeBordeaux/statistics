{
 "cells": [
  {
   "cell_type": "code",
   "execution_count": 1,
   "id": "b64b867b",
   "metadata": {},
   "outputs": [],
   "source": [
    "import numpy as np\n",
    "import pandas as pd\n",
    "\n",
    "import matplotlib.pyplot as plt\n",
    "import seaborn as sns"
   ]
  },
  {
   "cell_type": "code",
   "execution_count": null,
   "id": "b94d352a",
   "metadata": {},
   "outputs": [],
   "source": []
  },
  {
   "cell_type": "markdown",
   "id": "596ef18f",
   "metadata": {},
   "source": [
    "**Tableaux des fréquences**"
   ]
  },
  {
   "cell_type": "code",
   "execution_count": 2,
   "id": "34e7dc1c",
   "metadata": {},
   "outputs": [],
   "source": [
    "data = pd.Series([8, 9, 8, 9, 7, 8, 9, 9, 8, 9, 7, 10, 9, 8, 6, 7, 8, 8, 9, 6])"
   ]
  },
  {
   "cell_type": "code",
   "execution_count": 3,
   "id": "e1317c99",
   "metadata": {},
   "outputs": [
    {
     "data": {
      "text/plain": [
       "8     7\n",
       "9     7\n",
       "7     3\n",
       "6     2\n",
       "10    1\n",
       "dtype: int64"
      ]
     },
     "execution_count": 3,
     "metadata": {},
     "output_type": "execute_result"
    }
   ],
   "source": [
    "data.value_counts()"
   ]
  },
  {
   "cell_type": "markdown",
   "id": "7e16d9f6",
   "metadata": {},
   "source": [
    "Cette méthode crée un tableau des fréquences avec des classes d’un seul élément.\n",
    "\n",
    "Par défaut les valeurs sont ordonnées de la plus fréquente à la moins fréquente.\n",
    "\n",
    "Si on veut que les valeurs soient ordonnées de la plus petite au plus grand il faut rajouter .sort_index()."
   ]
  },
  {
   "cell_type": "code",
   "execution_count": 4,
   "id": "ab97eef3",
   "metadata": {},
   "outputs": [
    {
     "data": {
      "text/plain": [
       "6     2\n",
       "7     3\n",
       "8     7\n",
       "9     7\n",
       "10    1\n",
       "dtype: int64"
      ]
     },
     "execution_count": 4,
     "metadata": {},
     "output_type": "execute_result"
    }
   ],
   "source": [
    "data.value_counts().sort_index()"
   ]
  },
  {
   "cell_type": "markdown",
   "id": "401db42b",
   "metadata": {},
   "source": [
    "On a obtenu ainsi le même tableau des fréquences que celui vu en cours."
   ]
  },
  {
   "cell_type": "markdown",
   "id": "09ca1803",
   "metadata": {},
   "source": [
    "Pour avoir un tableau de fréquences relatives il faut rajouter \"normalize = True\" comme paramètre."
   ]
  },
  {
   "cell_type": "code",
   "execution_count": 5,
   "id": "926f1d47",
   "metadata": {},
   "outputs": [
    {
     "data": {
      "text/plain": [
       "6     0.10\n",
       "7     0.15\n",
       "8     0.35\n",
       "9     0.35\n",
       "10    0.05\n",
       "dtype: float64"
      ]
     },
     "execution_count": 5,
     "metadata": {},
     "output_type": "execute_result"
    }
   ],
   "source": [
    "data.value_counts(normalize = True).sort_index()"
   ]
  },
  {
   "cell_type": "code",
   "execution_count": null,
   "id": "84007e52",
   "metadata": {},
   "outputs": [],
   "source": []
  },
  {
   "cell_type": "markdown",
   "id": "17986ebf",
   "metadata": {},
   "source": [
    "On essaye maintenant de créer un tableau des fréquences avec des classes constituées par des intervalles et pas par une seule valeur."
   ]
  },
  {
   "cell_type": "code",
   "execution_count": 6,
   "id": "87ee3c23",
   "metadata": {},
   "outputs": [],
   "source": [
    "data2 = pd.Series([76, 72, 88, 60, 72, 68, 80, 64, 68, 68, 80, 76, 68, 72, 96, 72, 68, 72, 64, 80,\n",
    "64, 80, 76, 76, 76, 80, 104, 88, 60, 76, 72, 72, 88, 80, 60, 72, 88, 88, 124, 64])"
   ]
  },
  {
   "cell_type": "code",
   "execution_count": 7,
   "id": "eeba0308",
   "metadata": {},
   "outputs": [
    {
     "data": {
      "text/plain": [
       "(60, 70]       9\n",
       "(70, 80]      20\n",
       "(80, 90]       5\n",
       "(90, 100]      1\n",
       "(100, 110]     1\n",
       "(110, 120]     0\n",
       "(120, 130]     1\n",
       "dtype: int64"
      ]
     },
     "execution_count": 7,
     "metadata": {},
     "output_type": "execute_result"
    }
   ],
   "source": [
    "pd.cut(data2, bins = [60, 70, 80, 90, 100, 110, 120, 130]).value_counts().sort_index()"
   ]
  },
  {
   "cell_type": "markdown",
   "id": "bb30c211",
   "metadata": {},
   "source": [
    "On s’aperçoit que le tableau n’est pas le même que celui vu en cours (contrôler la slide 10 du 2ème chapitre). Le problème est dû au fait qu’avec Pandas les intervalles sont ouverts à gauche, donc le premier intervalle ici est = (60, 70] = [61-70], alors que nous voulions [60-69].\n",
    "\n",
    "Donc il faut changer les valeurs des bins, qui ne doivent pas être [60, 70, 80, 90, 100, 110, 120, 130] mais [59, 69, 79, 89, 99, 109, 119, 129]."
   ]
  },
  {
   "cell_type": "code",
   "execution_count": 8,
   "id": "ef59a92c",
   "metadata": {},
   "outputs": [
    {
     "data": {
      "text/plain": [
       "(59, 69]      12\n",
       "(69, 79]      14\n",
       "(79, 89]      11\n",
       "(89, 99]       1\n",
       "(99, 109]      1\n",
       "(109, 119]     0\n",
       "(119, 129]     1\n",
       "dtype: int64"
      ]
     },
     "execution_count": 8,
     "metadata": {},
     "output_type": "execute_result"
    }
   ],
   "source": [
    "pd.cut(data2, bins = [59, 69, 79, 89, 99, 109, 119, 129]).value_counts().sort_index()"
   ]
  },
  {
   "cell_type": "code",
   "execution_count": null,
   "id": "0dd62c19",
   "metadata": {},
   "outputs": [],
   "source": []
  },
  {
   "cell_type": "markdown",
   "id": "58b3f1ed",
   "metadata": {},
   "source": [
    "Pour avoir un tableau de fréquences relatives il faut rajouter \"normalize = True\" comme paramètre."
   ]
  },
  {
   "cell_type": "code",
   "execution_count": 9,
   "id": "68605fc3",
   "metadata": {},
   "outputs": [
    {
     "data": {
      "text/plain": [
       "(59, 69]      0.300\n",
       "(69, 79]      0.350\n",
       "(79, 89]      0.275\n",
       "(89, 99]      0.025\n",
       "(99, 109]     0.025\n",
       "(109, 119]    0.000\n",
       "(119, 129]    0.025\n",
       "dtype: float64"
      ]
     },
     "execution_count": 9,
     "metadata": {},
     "output_type": "execute_result"
    }
   ],
   "source": [
    "pd.cut(data2, bins = [59, 69, 79, 89, 99, 109, 119, 129]).value_counts(normalize = True).sort_index()"
   ]
  },
  {
   "cell_type": "code",
   "execution_count": null,
   "id": "d1a8df8f",
   "metadata": {},
   "outputs": [],
   "source": []
  },
  {
   "cell_type": "markdown",
   "id": "a0bb965d",
   "metadata": {},
   "source": [
    "Pour avoir un tableau de fréquences cumulées il faut rajouter la function cumsum() à la fin."
   ]
  },
  {
   "cell_type": "code",
   "execution_count": 10,
   "id": "6e91bf50",
   "metadata": {},
   "outputs": [
    {
     "data": {
      "text/plain": [
       "(59, 69]      12\n",
       "(69, 79]      26\n",
       "(79, 89]      37\n",
       "(89, 99]      38\n",
       "(99, 109]     39\n",
       "(109, 119]    39\n",
       "(119, 129]    40\n",
       "dtype: int64"
      ]
     },
     "execution_count": 10,
     "metadata": {},
     "output_type": "execute_result"
    }
   ],
   "source": [
    "pd.cut(data2, bins = [59, 69, 79, 89, 99, 109, 119, 129]).value_counts().sort_index().cumsum()"
   ]
  },
  {
   "cell_type": "markdown",
   "id": "75005544",
   "metadata": {},
   "source": [
    "On remarque que si dans le paramètre \"bins\" on met un nombre entier positif (par exemple 7) on obtient un tableau de fréquences avec 7 intervalles qui ne correspondent pas forcement à ceux qu’on a choisi auparavant et qui n’ont même pas les mêmes fréquences."
   ]
  },
  {
   "cell_type": "code",
   "execution_count": 47,
   "id": "aeddf40d",
   "metadata": {},
   "outputs": [
    {
     "data": {
      "text/plain": [
       "(59.936, 69.143]      12\n",
       "(69.143, 78.286]      14\n",
       "(78.286, 87.429]       6\n",
       "(87.429, 96.571]       6\n",
       "(96.571, 105.714]      1\n",
       "(105.714, 114.857]     0\n",
       "(114.857, 124.0]       1\n",
       "dtype: int64"
      ]
     },
     "execution_count": 47,
     "metadata": {},
     "output_type": "execute_result"
    }
   ],
   "source": [
    "pd.cut(data2, bins = 7).value_counts().sort_index()"
   ]
  },
  {
   "cell_type": "code",
   "execution_count": null,
   "id": "e2d3118a",
   "metadata": {},
   "outputs": [],
   "source": []
  },
  {
   "cell_type": "markdown",
   "id": "df6924b6",
   "metadata": {},
   "source": [
    "Si on veut décrémenter tous les éléments d’une liste par 1, on peut procéder ainsi :"
   ]
  },
  {
   "cell_type": "code",
   "execution_count": 11,
   "id": "5a3687de",
   "metadata": {},
   "outputs": [
    {
     "data": {
      "text/plain": [
       "[59, 69, 79, 89, 99, 109, 119, 129]"
      ]
     },
     "execution_count": 11,
     "metadata": {},
     "output_type": "execute_result"
    }
   ],
   "source": [
    "bins_dep = [60, 70, 80, 90, 100, 110, 120, 130]\n",
    "bins_arr = [x-1 for x in bins_dep]\n",
    "bins_arr"
   ]
  },
  {
   "cell_type": "code",
   "execution_count": 12,
   "id": "7aff6026",
   "metadata": {},
   "outputs": [
    {
     "data": {
      "text/plain": [
       "(59, 69]      12\n",
       "(69, 79]      14\n",
       "(79, 89]      11\n",
       "(89, 99]       1\n",
       "(99, 109]      1\n",
       "(109, 119]     0\n",
       "(119, 129]     1\n",
       "dtype: int64"
      ]
     },
     "execution_count": 12,
     "metadata": {},
     "output_type": "execute_result"
    }
   ],
   "source": [
    "pd.cut(data2, bins = bins_arr).value_counts().sort_index()"
   ]
  },
  {
   "cell_type": "markdown",
   "id": "9c6c36e9",
   "metadata": {},
   "source": [
    "La liste [59, 69, 79, 89, 99, 109, 119, 129] peut être obtenue aussi des façons suivantes :"
   ]
  },
  {
   "cell_type": "code",
   "execution_count": 15,
   "id": "af7273e7",
   "metadata": {},
   "outputs": [
    {
     "data": {
      "text/plain": [
       "[59, 69, 79, 89, 99, 109, 119, 129]"
      ]
     },
     "execution_count": 15,
     "metadata": {},
     "output_type": "execute_result"
    }
   ],
   "source": [
    "bins2 = [*range(59, 130, 10)]\n",
    "bins2"
   ]
  },
  {
   "cell_type": "code",
   "execution_count": 16,
   "id": "1b775144",
   "metadata": {},
   "outputs": [
    {
     "data": {
      "text/plain": [
       "array([ 59,  69,  79,  89,  99, 109, 119, 129])"
      ]
     },
     "execution_count": 16,
     "metadata": {},
     "output_type": "execute_result"
    }
   ],
   "source": [
    "bins3 = np.linspace(59, 129, num = 8, dtype = int)\n",
    "bins3"
   ]
  },
  {
   "cell_type": "markdown",
   "id": "8b58424e",
   "metadata": {},
   "source": [
    "Dans les deux cas on obtient le tableau des fréquences correctement."
   ]
  },
  {
   "cell_type": "code",
   "execution_count": 17,
   "id": "a130da55",
   "metadata": {},
   "outputs": [
    {
     "data": {
      "text/plain": [
       "(59, 69]      12\n",
       "(69, 79]      14\n",
       "(79, 89]      11\n",
       "(89, 99]       1\n",
       "(99, 109]      1\n",
       "(109, 119]     0\n",
       "(119, 129]     1\n",
       "dtype: int64"
      ]
     },
     "execution_count": 17,
     "metadata": {},
     "output_type": "execute_result"
    }
   ],
   "source": [
    "pd.cut(data2, bins = bins2).value_counts().sort_index()"
   ]
  },
  {
   "cell_type": "code",
   "execution_count": 18,
   "id": "f3fc110e",
   "metadata": {},
   "outputs": [
    {
     "data": {
      "text/plain": [
       "(59, 69]      12\n",
       "(69, 79]      14\n",
       "(79, 89]      11\n",
       "(89, 99]       1\n",
       "(99, 109]      1\n",
       "(109, 119]     0\n",
       "(119, 129]     1\n",
       "dtype: int64"
      ]
     },
     "execution_count": 18,
     "metadata": {},
     "output_type": "execute_result"
    }
   ],
   "source": [
    "pd.cut(data2, bins = bins3).value_counts().sort_index()"
   ]
  },
  {
   "cell_type": "code",
   "execution_count": null,
   "id": "935eb9ad",
   "metadata": {},
   "outputs": [],
   "source": []
  },
  {
   "cell_type": "markdown",
   "id": "f745ed8a",
   "metadata": {},
   "source": [
    "Tableau de fréquences pour des données qualitatives."
   ]
  },
  {
   "cell_type": "code",
   "execution_count": 19,
   "id": "5020064a",
   "metadata": {},
   "outputs": [],
   "source": [
    "data_qual = pd.Series(['CBS', 'Fox', 'ABC', 'Fox', 'CBS', 'CBS', 'ABC', 'Fox', 'CBS', 'ABC', 'CBS', 'CBS', 'NBC', 'CBS',\n",
    "'NBC', 'NBC', 'CBS', 'CBS', 'NBC', 'NBC'])"
   ]
  },
  {
   "cell_type": "code",
   "execution_count": 22,
   "id": "9cdaefd6",
   "metadata": {},
   "outputs": [
    {
     "data": {
      "text/plain": [
       "ABC    3\n",
       "CBS    9\n",
       "Fox    3\n",
       "NBC    5\n",
       "dtype: int64"
      ]
     },
     "execution_count": 22,
     "metadata": {},
     "output_type": "execute_result"
    }
   ],
   "source": [
    "data_qual.value_counts().sort_index()"
   ]
  },
  {
   "cell_type": "code",
   "execution_count": null,
   "id": "3a5168ff",
   "metadata": {},
   "outputs": [],
   "source": []
  },
  {
   "cell_type": "markdown",
   "id": "2f50c1f2",
   "metadata": {},
   "source": [
    "**Histogrammes**"
   ]
  },
  {
   "cell_type": "markdown",
   "id": "7fa91383",
   "metadata": {},
   "source": [
    "On peut utiliser soit Matplotlib, soit Seaborn. On fait l’histogramme avec les mêmes intervalles que pour le tableau des fréquences.\n",
    "\n",
    "D'abord on utilise Matplotlib."
   ]
  },
  {
   "cell_type": "code",
   "execution_count": 23,
   "id": "881fdc1d",
   "metadata": {},
   "outputs": [
    {
     "data": {
      "image/png": "[encoded data removed]",
      "text/plain": [
       "<Figure size 432x288 with 1 Axes>"
      ]
     },
     "metadata": {
      "needs_background": "light"
     },
     "output_type": "display_data"
    }
   ],
   "source": [
    "plt.hist(data2, bins = [59, 69, 79, 89, 99, 109, 119, 129], edgecolor =\"black\");"
   ]
  },
  {
   "cell_type": "markdown",
   "id": "2f5cb8b5",
   "metadata": {},
   "source": [
    "On s’aperçoit que même si les hauteurs sont correctes, les bornes des intervalles ne le sont pas. Par exemple le premier intervalle commence à 59, alors qu’il devrait commencer à 60.\n",
    "\n",
    "Le problème est dû au fait qu’avec Matplotlib les intervalles sont fermés à gauche et ouverts à droite, alors que c’était le contraire avec Pandas.\n",
    "\n",
    "Donc il faut utiliser comme bins [60, 70, 80, 90, 100, 110, 120, 130]."
   ]
  },
  {
   "cell_type": "code",
   "execution_count": 27,
   "id": "3b2c55a1",
   "metadata": {},
   "outputs": [
    {
     "data": {
      "image/png": "[encoded data removed]",
      "text/plain": [
       "<Figure size 432x288 with 1 Axes>"
      ]
     },
     "metadata": {
      "needs_background": "light"
     },
     "output_type": "display_data"
    }
   ],
   "source": [
    "plt.hist(data2, bins = [60, 70, 80, 90, 100, 110, 120, 130], edgecolor = \"black\");"
   ]
  },
  {
   "cell_type": "markdown",
   "id": "5d7aeacd",
   "metadata": {},
   "source": [
    "Comme pour les tableaux des fréquences, si dans le paramètre \"bins\" on met un nombre entier positif (comme 7) on obtient un histogramme avec 7 intervalles qui ne correspondent pas forcement à ceux qu’on avait choisi."
   ]
  },
  {
   "cell_type": "code",
   "execution_count": 48,
   "id": "5374522c",
   "metadata": {},
   "outputs": [
    {
     "data": {
      "image/png": "[encoded data removed]",
      "text/plain": [
       "<Figure size 432x288 with 1 Axes>"
      ]
     },
     "metadata": {
      "needs_background": "light"
     },
     "output_type": "display_data"
    }
   ],
   "source": [
    "plt.hist(data2, bins = 7, edgecolor = \"black\");"
   ]
  },
  {
   "cell_type": "code",
   "execution_count": null,
   "id": "bdd0f07d",
   "metadata": {},
   "outputs": [],
   "source": []
  },
  {
   "cell_type": "code",
   "execution_count": null,
   "id": "936f0bf0",
   "metadata": {},
   "outputs": [],
   "source": []
  },
  {
   "cell_type": "markdown",
   "id": "d6fb75fc",
   "metadata": {},
   "source": [
    "Pour avoir un histogramme de fréquences relatives il faut rajouter \"density = True\" comme paramètre."
   ]
  },
  {
   "cell_type": "code",
   "execution_count": 28,
   "id": "92e278c8",
   "metadata": {},
   "outputs": [
    {
     "data": {
      "image/png": "[encoded data removed]",
      "text/plain": [
       "<Figure size 432x288 with 1 Axes>"
      ]
     },
     "metadata": {
      "needs_background": "light"
     },
     "output_type": "display_data"
    }
   ],
   "source": [
    "plt.hist(data2, bins = [60, 70, 80, 90, 100, 110, 120, 130], edgecolor = \"black\", density = True);"
   ]
  },
  {
   "cell_type": "code",
   "execution_count": null,
   "id": "401d5d5f",
   "metadata": {},
   "outputs": [],
   "source": []
  },
  {
   "cell_type": "markdown",
   "id": "0175db10",
   "metadata": {},
   "source": [
    "Maintenant avec Seaborn."
   ]
  },
  {
   "cell_type": "code",
   "execution_count": 29,
   "id": "448146b7",
   "metadata": {},
   "outputs": [
    {
     "data": {
      "image/png": "[encoded data removed]",
      "text/plain": [
       "<Figure size 360x360 with 1 Axes>"
      ]
     },
     "metadata": {
      "needs_background": "light"
     },
     "output_type": "display_data"
    }
   ],
   "source": [
    "sns.displot(data2, bins = [60, 70, 80, 90, 100, 110, 120, 130]);"
   ]
  },
  {
   "cell_type": "markdown",
   "id": "45f8ac52",
   "metadata": {},
   "source": [
    "Il n'est pas facile de faire des histogrammes de fréquences et cumulatives avec Seaborn."
   ]
  },
  {
   "cell_type": "markdown",
   "id": "74d96bd4",
   "metadata": {},
   "source": [
    "Par contre faire un polygone des fréquences et une ogive est beaucoup plus simple sur Seaborn que sur Matplotlib."
   ]
  },
  {
   "cell_type": "markdown",
   "id": "db3350e0",
   "metadata": {},
   "source": [
    "**Polygone des fréquences** :"
   ]
  },
  {
   "cell_type": "code",
   "execution_count": 30,
   "id": "2d89f0a7",
   "metadata": {},
   "outputs": [
    {
     "data": {
      "image/png": "[encoded data removed]",
      "text/plain": [
       "<Figure size 360x360 with 1 Axes>"
      ]
     },
     "metadata": {
      "needs_background": "light"
     },
     "output_type": "display_data"
    }
   ],
   "source": [
    "sns.displot(data2, bins = [60, 70, 80, 90, 100, 110, 120, 130], element = \"poly\");"
   ]
  },
  {
   "cell_type": "markdown",
   "id": "035cfc9c",
   "metadata": {},
   "source": [
    "**Ogive** :"
   ]
  },
  {
   "cell_type": "code",
   "execution_count": 31,
   "id": "3038adc5",
   "metadata": {},
   "outputs": [
    {
     "data": {
      "image/png": "[encoded data removed]",
      "text/plain": [
       "<Figure size 360x360 with 1 Axes>"
      ]
     },
     "metadata": {
      "needs_background": "light"
     },
     "output_type": "display_data"
    }
   ],
   "source": [
    "sns.displot(data2, bins = [60, 70, 80, 90, 100, 110, 120, 130], element=\"poly\", cumulative=True);"
   ]
  },
  {
   "cell_type": "code",
   "execution_count": null,
   "id": "c13b5012",
   "metadata": {},
   "outputs": [],
   "source": []
  },
  {
   "cell_type": "markdown",
   "id": "c4136869",
   "metadata": {},
   "source": [
    "**Diagramme de Pareto**"
   ]
  },
  {
   "cell_type": "markdown",
   "id": "96f1ba50",
   "metadata": {},
   "source": [
    "Faire un diagramme de Pareto avec Matplotlib demande beaucoup de passages. D’abord on importe le package collections pour créer le dictionnaire de fréquences d’une liste de données."
   ]
  },
  {
   "cell_type": "code",
   "execution_count": null,
   "id": "d3caab9b",
   "metadata": {},
   "outputs": [],
   "source": []
  },
  {
   "cell_type": "code",
   "execution_count": 32,
   "id": "effc3a77",
   "metadata": {},
   "outputs": [
    {
     "data": {
      "text/plain": [
       "Counter({'CBS': 9, 'Fox': 3, 'ABC': 3, 'NBC': 5})"
      ]
     },
     "execution_count": 32,
     "metadata": {},
     "output_type": "execute_result"
    }
   ],
   "source": [
    "import collections\n",
    "\n",
    "diction = collections.Counter(data_qual)\n",
    "diction"
   ]
  },
  {
   "cell_type": "markdown",
   "id": "9a2ae8f7",
   "metadata": {},
   "source": [
    "À partir du dictionnaire ainsi obtenu, on crée la liste des noms des classes et de leurs fréquences."
   ]
  },
  {
   "cell_type": "code",
   "execution_count": 33,
   "id": "a809e7b8",
   "metadata": {},
   "outputs": [
    {
     "data": {
      "text/plain": [
       "['CBS', 'Fox', 'ABC', 'NBC']"
      ]
     },
     "execution_count": 33,
     "metadata": {},
     "output_type": "execute_result"
    }
   ],
   "source": [
    "noms = list(diction.keys())\n",
    "noms"
   ]
  },
  {
   "cell_type": "code",
   "execution_count": 34,
   "id": "04e43822",
   "metadata": {},
   "outputs": [
    {
     "data": {
      "text/plain": [
       "[9, 3, 3, 5]"
      ]
     },
     "execution_count": 34,
     "metadata": {},
     "output_type": "execute_result"
    }
   ],
   "source": [
    "freq = list(diction.values())\n",
    "freq"
   ]
  },
  {
   "cell_type": "markdown",
   "id": "4b27fe43",
   "metadata": {},
   "source": [
    "Enfin on crée un graphique à barres avec ces noms comme comme noms des classes et ces fréquences comme valeurs."
   ]
  },
  {
   "cell_type": "code",
   "execution_count": 35,
   "id": "258a1cfa",
   "metadata": {},
   "outputs": [
    {
     "data": {
      "image/png": "[encoded data removed]",
      "text/plain": [
       "<Figure size 432x288 with 1 Axes>"
      ]
     },
     "metadata": {
      "needs_background": "light"
     },
     "output_type": "display_data"
    }
   ],
   "source": [
    "plt.bar(range(len(diction)), freq, tick_label = noms, width = 1.0, edgecolor = \"black\");"
   ]
  },
  {
   "cell_type": "markdown",
   "id": "863e419b",
   "metadata": {},
   "source": [
    "Comme on peut le voir, les barres ne sont pas affichées de la plus à la moins fréquente. Pour ce faire, il faut ordonner le dictionnaire des fréquences et utiliser ceci dans le graphe à barres. "
   ]
  },
  {
   "cell_type": "code",
   "execution_count": 36,
   "id": "f11e327f",
   "metadata": {},
   "outputs": [
    {
     "data": {
      "text/plain": [
       "{'CBS': 9, 'NBC': 5, 'Fox': 3, 'ABC': 3}"
      ]
     },
     "execution_count": 36,
     "metadata": {},
     "output_type": "execute_result"
    }
   ],
   "source": [
    "dict_ord = dict(sorted(diction.items(), key = lambda x:x[1], reverse = True))\n",
    "dict_ord"
   ]
  },
  {
   "cell_type": "code",
   "execution_count": 37,
   "id": "feb3d148",
   "metadata": {},
   "outputs": [
    {
     "data": {
      "text/plain": [
       "['CBS', 'NBC', 'Fox', 'ABC']"
      ]
     },
     "execution_count": 37,
     "metadata": {},
     "output_type": "execute_result"
    }
   ],
   "source": [
    "noms_ord = list(dict_ord.keys())\n",
    "noms_ord"
   ]
  },
  {
   "cell_type": "code",
   "execution_count": 38,
   "id": "8bbc2cea",
   "metadata": {},
   "outputs": [
    {
     "data": {
      "text/plain": [
       "[9, 5, 3, 3]"
      ]
     },
     "execution_count": 38,
     "metadata": {},
     "output_type": "execute_result"
    }
   ],
   "source": [
    "freq_ord = list(dict_ord.values())\n",
    "freq_ord"
   ]
  },
  {
   "cell_type": "code",
   "execution_count": 42,
   "id": "6a47b074",
   "metadata": {},
   "outputs": [
    {
     "data": {
      "image/png": "[encoded data removed]",
      "text/plain": [
       "<Figure size 432x288 with 1 Axes>"
      ]
     },
     "metadata": {
      "needs_background": "light"
     },
     "output_type": "display_data"
    }
   ],
   "source": [
    "plt.bar(range(len(dict_ord)), freq_ord, tick_label = noms_ord, width = 1.0, edgecolor = \"black\");"
   ]
  },
  {
   "cell_type": "code",
   "execution_count": null,
   "id": "cd16517a",
   "metadata": {},
   "outputs": [],
   "source": []
  },
  {
   "cell_type": "markdown",
   "id": "fc3e192c",
   "metadata": {},
   "source": [
    "**Nuage de points** :"
   ]
  },
  {
   "cell_type": "code",
   "execution_count": 45,
   "id": "8bba935f",
   "metadata": {},
   "outputs": [
    {
     "data": {
      "image/png": "[encoded data removed]",
      "text/plain": [
       "<Figure size 432x288 with 1 Axes>"
      ]
     },
     "metadata": {
      "needs_background": "light"
     },
     "output_type": "display_data"
    }
   ],
   "source": [
    "x = [5,7,8,7,2,17,2,9,4,11,12,9,6]\n",
    "y = [99,86,87,88,111,86,103,87,94,78,77,85,86]\n",
    "\n",
    "plt.scatter(x, y);\n"
   ]
  },
  {
   "cell_type": "code",
   "execution_count": null,
   "id": "0e863e23",
   "metadata": {},
   "outputs": [],
   "source": []
  }
 ],
 "metadata": {
  "kernelspec": {
   "display_name": "Python 3.10.4 64-bit",
   "language": "python",
   "name": "python3"
  },
  "language_info": {
   "codemirror_mode": {
    "name": "ipython",
    "version": 3
   },
   "file_extension": ".py",
   "mimetype": "text/x-python",
   "name": "python",
   "nbconvert_exporter": "python",
   "pygments_lexer": "ipython3",
   "version": "3.10.4"
  },
  "vscode": {
   "interpreter": {
    "hash": "916dbcbb3f70747c44a77c7bcd40155683ae19c65e1c03b4aa3499c5328201f1"
   }
  }
 },
 "nbformat": 4,
 "nbformat_minor": 5
}
