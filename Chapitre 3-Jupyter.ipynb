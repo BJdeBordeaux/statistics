{
 "cells": [
  {
   "cell_type": "code",
   "execution_count": 1,
   "metadata": {},
   "outputs": [],
   "source": [
    "import statistics\n",
    "import numpy as np\n",
    "import math\n",
    "\n",
    "import matplotlib.pyplot as plt"
   ]
  },
  {
   "cell_type": "markdown",
   "metadata": {},
   "source": [
    "**Mesures de centre**"
   ]
  },
  {
   "cell_type": "markdown",
   "metadata": {},
   "source": [
    "Pour calculer la moyenne on utilise la fonction statistics.mean()."
   ]
  },
  {
   "cell_type": "code",
   "execution_count": 2,
   "metadata": {},
   "outputs": [],
   "source": [
    "data1 = [27531, 15684, 5638, 27997, 25433]\n",
    "data2 = [51, 63, 36, 43, 34, 62, 73, 39, 53, 79]\n",
    "data3 = ['Noir', 'Rouge', 'Blanc', 'Bleu', 'Noir', 'Noir', 'Bleu', 'Jaune', 'Bleu', 'Rouge']\n"
   ]
  },
  {
   "cell_type": "code",
   "execution_count": 3,
   "metadata": {},
   "outputs": [
    {
     "data": {
      "text/plain": [
       "20456.6"
      ]
     },
     "execution_count": 3,
     "metadata": {},
     "output_type": "execute_result"
    }
   ],
   "source": [
    "statistics.mean(data1)"
   ]
  },
  {
   "cell_type": "code",
   "execution_count": 4,
   "metadata": {},
   "outputs": [
    {
     "data": {
      "text/plain": [
       "53.3"
      ]
     },
     "execution_count": 4,
     "metadata": {},
     "output_type": "execute_result"
    }
   ],
   "source": [
    "statistics.mean(data2)"
   ]
  },
  {
   "cell_type": "code",
   "execution_count": null,
   "metadata": {},
   "outputs": [],
   "source": []
  },
  {
   "cell_type": "markdown",
   "metadata": {},
   "source": [
    "Pour calculer la médiane on utilise la fonction statistics.median(...)."
   ]
  },
  {
   "cell_type": "code",
   "execution_count": 5,
   "metadata": {},
   "outputs": [
    {
     "data": {
      "text/plain": [
       "52.0"
      ]
     },
     "execution_count": 5,
     "metadata": {},
     "output_type": "execute_result"
    }
   ],
   "source": [
    "statistics.median(data2)"
   ]
  },
  {
   "cell_type": "code",
   "execution_count": 6,
   "metadata": {},
   "outputs": [
    {
     "data": {
      "text/plain": [
       "25433"
      ]
     },
     "execution_count": 6,
     "metadata": {},
     "output_type": "execute_result"
    }
   ],
   "source": [
    "statistics.median(data1)"
   ]
  },
  {
   "cell_type": "code",
   "execution_count": null,
   "metadata": {},
   "outputs": [],
   "source": []
  },
  {
   "cell_type": "markdown",
   "metadata": {},
   "source": [
    "Pour calculer le mode on utilise la fonction statistics.multimode(...)."
   ]
  },
  {
   "cell_type": "code",
   "execution_count": 7,
   "metadata": {},
   "outputs": [
    {
     "data": {
      "text/plain": [
       "['Noir', 'Bleu']"
      ]
     },
     "execution_count": 7,
     "metadata": {},
     "output_type": "execute_result"
    }
   ],
   "source": [
    "statistics.multimode(data3)"
   ]
  },
  {
   "cell_type": "code",
   "execution_count": 8,
   "metadata": {},
   "outputs": [
    {
     "data": {
      "text/plain": [
       "'Noir'"
      ]
     },
     "execution_count": 8,
     "metadata": {},
     "output_type": "execute_result"
    }
   ],
   "source": [
    "statistics.mode(data3)"
   ]
  },
  {
   "cell_type": "code",
   "execution_count": null,
   "metadata": {},
   "outputs": [],
   "source": []
  },
  {
   "cell_type": "markdown",
   "metadata": {},
   "source": [
    "**Mesures de variation**"
   ]
  },
  {
   "cell_type": "code",
   "execution_count": 9,
   "metadata": {},
   "outputs": [],
   "source": [
    "data4 = [12, 13, 9, 10]"
   ]
  },
  {
   "cell_type": "code",
   "execution_count": null,
   "metadata": {},
   "outputs": [],
   "source": []
  },
  {
   "cell_type": "markdown",
   "metadata": {},
   "source": [
    "Pour calculer l’étendue il faut faire la différence entre le maximum et le minimum."
   ]
  },
  {
   "cell_type": "code",
   "execution_count": 10,
   "metadata": {},
   "outputs": [
    {
     "data": {
      "text/plain": [
       "45"
      ]
     },
     "execution_count": 10,
     "metadata": {},
     "output_type": "execute_result"
    }
   ],
   "source": [
    "max(data2) - min(data2)"
   ]
  },
  {
   "cell_type": "code",
   "execution_count": null,
   "metadata": {},
   "outputs": [],
   "source": []
  },
  {
   "cell_type": "markdown",
   "metadata": {},
   "source": [
    "Pour calculer la variance de population on utilise la fonction statistics.pvariance(...)."
   ]
  },
  {
   "cell_type": "code",
   "execution_count": 11,
   "metadata": {},
   "outputs": [
    {
     "data": {
      "text/plain": [
       "2.5"
      ]
     },
     "execution_count": 11,
     "metadata": {},
     "output_type": "execute_result"
    }
   ],
   "source": [
    "statistics.pvariance(data4)"
   ]
  },
  {
   "cell_type": "code",
   "execution_count": null,
   "metadata": {},
   "outputs": [],
   "source": []
  },
  {
   "cell_type": "markdown",
   "metadata": {},
   "source": [
    "Pour calculer la variance d’échantillon on utilise la fonction statistics.variance(...)."
   ]
  },
  {
   "cell_type": "code",
   "execution_count": 12,
   "metadata": {},
   "outputs": [
    {
     "data": {
      "text/plain": [
       "3.3333333333333335"
      ]
     },
     "execution_count": 12,
     "metadata": {},
     "output_type": "execute_result"
    }
   ],
   "source": [
    "statistics.variance(data4)"
   ]
  },
  {
   "cell_type": "code",
   "execution_count": null,
   "metadata": {},
   "outputs": [],
   "source": []
  },
  {
   "cell_type": "markdown",
   "metadata": {},
   "source": [
    "Si on veut arrondir à n décimales il faut utiliser la fonction round(..., n)."
   ]
  },
  {
   "cell_type": "code",
   "execution_count": 13,
   "metadata": {},
   "outputs": [
    {
     "data": {
      "text/plain": [
       "3.33"
      ]
     },
     "execution_count": 13,
     "metadata": {},
     "output_type": "execute_result"
    }
   ],
   "source": [
    "round(statistics.variance(data4), 2)"
   ]
  },
  {
   "cell_type": "code",
   "execution_count": null,
   "metadata": {},
   "outputs": [],
   "source": []
  },
  {
   "cell_type": "markdown",
   "metadata": {},
   "source": [
    "Pour calculer l’écart type de population  on utilise la fonction statistics.pstdev(...)."
   ]
  },
  {
   "cell_type": "code",
   "execution_count": 14,
   "metadata": {},
   "outputs": [
    {
     "data": {
      "text/plain": [
       "1.58"
      ]
     },
     "execution_count": 14,
     "metadata": {},
     "output_type": "execute_result"
    }
   ],
   "source": [
    "round(statistics.pstdev(data4), 2)"
   ]
  },
  {
   "cell_type": "code",
   "execution_count": null,
   "metadata": {},
   "outputs": [],
   "source": []
  },
  {
   "cell_type": "markdown",
   "metadata": {},
   "source": [
    "Pour calculer l’écart type d’échantillon on utilise la fonction statistics.stdev(...)."
   ]
  },
  {
   "cell_type": "code",
   "execution_count": 15,
   "metadata": {},
   "outputs": [
    {
     "data": {
      "text/plain": [
       "1.83"
      ]
     },
     "execution_count": 15,
     "metadata": {},
     "output_type": "execute_result"
    }
   ],
   "source": [
    "round(statistics.stdev(data4), 2)"
   ]
  },
  {
   "cell_type": "code",
   "execution_count": null,
   "metadata": {},
   "outputs": [],
   "source": []
  },
  {
   "cell_type": "markdown",
   "metadata": {},
   "source": [
    "Le coefficient de variation est le quotient entre l’écart type et la valeur absolue de la moyenne.\n",
    "\n",
    "Voici celui de population."
   ]
  },
  {
   "cell_type": "code",
   "execution_count": 16,
   "metadata": {},
   "outputs": [
    {
     "data": {
      "text/plain": [
       "0.144"
      ]
     },
     "execution_count": 16,
     "metadata": {},
     "output_type": "execute_result"
    }
   ],
   "source": [
    "round(statistics.pstdev(data4)/abs(statistics.mean(data4)), 3)"
   ]
  },
  {
   "cell_type": "code",
   "execution_count": null,
   "metadata": {},
   "outputs": [],
   "source": []
  },
  {
   "cell_type": "markdown",
   "metadata": {},
   "source": [
    "La valeur absolue en Python est calculée avec la fonction abs(…)."
   ]
  },
  {
   "cell_type": "code",
   "execution_count": 17,
   "metadata": {},
   "outputs": [
    {
     "data": {
      "text/plain": [
       "3"
      ]
     },
     "execution_count": 17,
     "metadata": {},
     "output_type": "execute_result"
    }
   ],
   "source": [
    "abs(-3)"
   ]
  },
  {
   "cell_type": "code",
   "execution_count": null,
   "metadata": {},
   "outputs": [],
   "source": []
  },
  {
   "cell_type": "markdown",
   "metadata": {},
   "source": [
    "On exprime le coefficient de variation en pourcentage."
   ]
  },
  {
   "cell_type": "code",
   "execution_count": 18,
   "metadata": {},
   "outputs": [
    {
     "name": "stdout",
     "output_type": "stream",
     "text": [
      "14.399999999999999 %\n"
     ]
    }
   ],
   "source": [
    "print(100*round(statistics.pstdev(data4)/abs(statistics.mean(data4)), 3), '%')"
   ]
  },
  {
   "cell_type": "code",
   "execution_count": null,
   "metadata": {},
   "outputs": [],
   "source": []
  },
  {
   "cell_type": "markdown",
   "metadata": {},
   "source": [
    "On s’aperçoit que Python a donné un résultat différent de celui qu’on attendait, avec trois décimales. Ceci et dû à la représentation d’un nombre en virgule flottante, qui n’est pas exacte dans Python. \n",
    "\n",
    "Si on veut se débarrasser de ces décimales il faut ré-arrondir le résultat."
   ]
  },
  {
   "cell_type": "code",
   "execution_count": 19,
   "metadata": {},
   "outputs": [
    {
     "name": "stdout",
     "output_type": "stream",
     "text": [
      "14.4 %\n"
     ]
    }
   ],
   "source": [
    "print(round(100*round(statistics.pstdev(data4)/abs(statistics.mean(data4)), 3), 1), '%')"
   ]
  },
  {
   "cell_type": "markdown",
   "metadata": {},
   "source": [
    "Le même calcul qu’avant mais en plusieurs étapes."
   ]
  },
  {
   "cell_type": "code",
   "execution_count": 20,
   "metadata": {},
   "outputs": [
    {
     "name": "stdout",
     "output_type": "stream",
     "text": [
      "14.4 %\n"
     ]
    }
   ],
   "source": [
    "cv = statistics.pstdev(data4)/abs(statistics.mean(data4))\n",
    "round1 = round(cv, 3)                                   \n",
    "round2 = round(100*round1, 1)\n",
    "\n",
    "round2                                  \n",
    "                                \n",
    "print(round2,  '%')"
   ]
  },
  {
   "cell_type": "code",
   "execution_count": null,
   "metadata": {},
   "outputs": [],
   "source": []
  },
  {
   "cell_type": "markdown",
   "metadata": {},
   "source": [
    "Le coefficient de variation d'échantillon."
   ]
  },
  {
   "cell_type": "code",
   "execution_count": 21,
   "metadata": {},
   "outputs": [
    {
     "name": "stdout",
     "output_type": "stream",
     "text": [
      "16.6 %\n"
     ]
    }
   ],
   "source": [
    "print(round(100*round(statistics.stdev(data4)/abs(statistics.mean(data4)), 3), 1), '%')"
   ]
  },
  {
   "cell_type": "code",
   "execution_count": 22,
   "metadata": {},
   "outputs": [
    {
     "name": "stdout",
     "output_type": "stream",
     "text": [
      "16.6 %\n"
     ]
    }
   ],
   "source": [
    "cv = statistics.stdev(data4)/abs(statistics.mean(data4))\n",
    "round1 = round(cv, 3)                                   \n",
    "round2 = round(100*round1, 1)\n",
    "\n",
    "round2                                  \n",
    "                                \n",
    "print(round2,  '%')"
   ]
  },
  {
   "cell_type": "code",
   "execution_count": null,
   "metadata": {},
   "outputs": [],
   "source": []
  },
  {
   "cell_type": "markdown",
   "metadata": {},
   "source": [
    "**Cote Z**"
   ]
  },
  {
   "cell_type": "markdown",
   "metadata": {},
   "source": [
    "La cote Z d’une donnée égale à 107.5 dans une liste de données de moyenne 78.27 et écart type 11.94 est égale à ..."
   ]
  },
  {
   "cell_type": "code",
   "execution_count": 23,
   "metadata": {},
   "outputs": [
    {
     "data": {
      "text/plain": [
       "2.4480737018425467"
      ]
     },
     "execution_count": 23,
     "metadata": {},
     "output_type": "execute_result"
    }
   ],
   "source": [
    "donnee = 107.5\n",
    "moy = 78.27 \n",
    "ect = 11.94\n",
    "\n",
    "(donnee - moy)/ect"
   ]
  },
  {
   "cell_type": "markdown",
   "metadata": {},
   "source": [
    "En arrondissant,"
   ]
  },
  {
   "cell_type": "code",
   "execution_count": 24,
   "metadata": {},
   "outputs": [
    {
     "data": {
      "text/plain": [
       "2.45"
      ]
     },
     "execution_count": 24,
     "metadata": {},
     "output_type": "execute_result"
    }
   ],
   "source": [
    "round((donnee - moy)/ect, 2)"
   ]
  },
  {
   "cell_type": "code",
   "execution_count": null,
   "metadata": {},
   "outputs": [],
   "source": []
  },
  {
   "cell_type": "markdown",
   "metadata": {},
   "source": [
    "Calculons la cote Z de la donnée 34 dans la liste de données data2."
   ]
  },
  {
   "cell_type": "code",
   "execution_count": 25,
   "metadata": {},
   "outputs": [],
   "source": [
    "moy = statistics.mean(data2)\n",
    "ect = statistics.stdev(data2)\n",
    "donnee = 34"
   ]
  },
  {
   "cell_type": "code",
   "execution_count": 26,
   "metadata": {},
   "outputs": [
    {
     "data": {
      "text/plain": [
       "-1.23"
      ]
     },
     "execution_count": 26,
     "metadata": {},
     "output_type": "execute_result"
    }
   ],
   "source": [
    "round((donnee - moy)/ect, 2)"
   ]
  },
  {
   "cell_type": "code",
   "execution_count": null,
   "metadata": {},
   "outputs": [],
   "source": []
  },
  {
   "cell_type": "markdown",
   "metadata": {},
   "source": [
    "**Centiles**"
   ]
  },
  {
   "cell_type": "code",
   "execution_count": 27,
   "metadata": {
    "scrolled": true
   },
   "outputs": [
    {
     "data": {
      "text/plain": [
       "[0,\n",
       " 1,\n",
       " 2,\n",
       " 3,\n",
       " 4,\n",
       " 5,\n",
       " 6,\n",
       " 7,\n",
       " 8,\n",
       " 9,\n",
       " 10,\n",
       " 11,\n",
       " 12,\n",
       " 13,\n",
       " 14,\n",
       " 15,\n",
       " 16,\n",
       " 17,\n",
       " 18,\n",
       " 19,\n",
       " 20,\n",
       " 21,\n",
       " 22,\n",
       " 23,\n",
       " 24,\n",
       " 25,\n",
       " 26,\n",
       " 27,\n",
       " 28,\n",
       " 29,\n",
       " 30,\n",
       " 31,\n",
       " 32,\n",
       " 33,\n",
       " 34,\n",
       " 35,\n",
       " 36,\n",
       " 37,\n",
       " 38,\n",
       " 39,\n",
       " 40,\n",
       " 41,\n",
       " 42,\n",
       " 43,\n",
       " 44,\n",
       " 45,\n",
       " 46,\n",
       " 47,\n",
       " 48,\n",
       " 49,\n",
       " 50,\n",
       " 51,\n",
       " 52,\n",
       " 53,\n",
       " 54,\n",
       " 55,\n",
       " 56,\n",
       " 57,\n",
       " 58,\n",
       " 59,\n",
       " 60,\n",
       " 61,\n",
       " 62,\n",
       " 63,\n",
       " 64,\n",
       " 65,\n",
       " 66,\n",
       " 67,\n",
       " 68,\n",
       " 69,\n",
       " 70,\n",
       " 71,\n",
       " 72,\n",
       " 73,\n",
       " 74,\n",
       " 75,\n",
       " 76,\n",
       " 77,\n",
       " 78,\n",
       " 79,\n",
       " 80,\n",
       " 81,\n",
       " 82,\n",
       " 83,\n",
       " 84,\n",
       " 85,\n",
       " 86,\n",
       " 87,\n",
       " 88,\n",
       " 89,\n",
       " 90,\n",
       " 91,\n",
       " 92,\n",
       " 93,\n",
       " 94,\n",
       " 95,\n",
       " 96,\n",
       " 97,\n",
       " 98,\n",
       " 99]"
      ]
     },
     "execution_count": 27,
     "metadata": {},
     "output_type": "execute_result"
    }
   ],
   "source": [
    "data0_99 = [*range(0, 100)]\n",
    "data0_99"
   ]
  },
  {
   "cell_type": "code",
   "execution_count": 28,
   "metadata": {},
   "outputs": [
    {
     "data": {
      "text/plain": [
       "9.9"
      ]
     },
     "execution_count": 28,
     "metadata": {},
     "output_type": "execute_result"
    }
   ],
   "source": [
    "np.percentile(data0_99, 10)"
   ]
  },
  {
   "cell_type": "code",
   "execution_count": 29,
   "metadata": {},
   "outputs": [
    {
     "data": {
      "text/plain": [
       "24.75"
      ]
     },
     "execution_count": 29,
     "metadata": {},
     "output_type": "execute_result"
    }
   ],
   "source": [
    "np.percentile(data0_99, 25)"
   ]
  },
  {
   "cell_type": "code",
   "execution_count": 30,
   "metadata": {},
   "outputs": [
    {
     "name": "stdout",
     "output_type": "stream",
     "text": [
      "0 : 0.0\n",
      "1 : 0.99\n",
      "2 : 1.98\n",
      "3 : 2.9699999999999998\n",
      "4 : 3.96\n",
      "5 : 4.95\n",
      "6 : 5.9399999999999995\n",
      "7 : 6.930000000000001\n",
      "8 : 7.92\n",
      "9 : 8.91\n",
      "10 : 9.9\n",
      "11 : 10.89\n",
      "12 : 11.879999999999999\n",
      "13 : 12.870000000000001\n",
      "14 : 13.860000000000001\n",
      "15 : 14.85\n",
      "16 : 15.84\n",
      "17 : 16.830000000000002\n",
      "18 : 17.82\n",
      "19 : 18.81\n",
      "20 : 19.8\n",
      "21 : 20.79\n",
      "22 : 21.78\n",
      "23 : 22.77\n",
      "24 : 23.759999999999998\n",
      "25 : 24.75\n",
      "26 : 25.740000000000002\n",
      "27 : 26.73\n",
      "28 : 27.720000000000002\n",
      "29 : 28.709999999999997\n",
      "30 : 29.7\n",
      "31 : 30.69\n",
      "32 : 31.68\n",
      "33 : 32.67\n",
      "34 : 33.660000000000004\n",
      "35 : 34.65\n",
      "36 : 35.64\n",
      "37 : 36.63\n",
      "38 : 37.62\n",
      "39 : 38.61\n",
      "40 : 39.6\n",
      "41 : 40.589999999999996\n",
      "42 : 41.58\n",
      "43 : 42.57\n",
      "44 : 43.56\n",
      "45 : 44.550000000000004\n",
      "46 : 45.54\n",
      "47 : 46.529999999999994\n",
      "48 : 47.519999999999996\n",
      "49 : 48.51\n",
      "50 : 49.5\n",
      "51 : 50.49\n",
      "52 : 51.480000000000004\n",
      "53 : 52.470000000000006\n",
      "54 : 53.46\n",
      "55 : 54.45\n",
      "56 : 55.440000000000005\n",
      "57 : 56.42999999999999\n",
      "58 : 57.419999999999995\n",
      "59 : 58.41\n",
      "60 : 59.4\n",
      "61 : 60.39\n",
      "62 : 61.38\n",
      "63 : 62.37\n",
      "64 : 63.36\n",
      "65 : 64.35000000000001\n",
      "66 : 65.34\n",
      "67 : 66.33\n",
      "68 : 67.32000000000001\n",
      "69 : 68.30999999999999\n",
      "70 : 69.3\n",
      "71 : 70.28999999999999\n",
      "72 : 71.28\n",
      "73 : 72.27\n",
      "74 : 73.26\n",
      "75 : 74.25\n",
      "76 : 75.24\n",
      "77 : 76.23\n",
      "78 : 77.22\n",
      "79 : 78.21000000000001\n",
      "80 : 79.2\n",
      "81 : 80.19000000000001\n",
      "82 : 81.17999999999999\n",
      "83 : 82.17\n",
      "84 : 83.16\n",
      "85 : 84.14999999999999\n",
      "86 : 85.14\n",
      "87 : 86.13\n",
      "88 : 87.12\n",
      "89 : 88.11\n",
      "90 : 89.10000000000001\n",
      "91 : 90.09\n",
      "92 : 91.08\n",
      "93 : 92.07000000000001\n",
      "94 : 93.05999999999999\n",
      "95 : 94.05\n",
      "96 : 95.03999999999999\n",
      "97 : 96.03\n",
      "98 : 97.02\n",
      "99 : 98.01\n",
      "100 : 99.0\n"
     ]
    }
   ],
   "source": [
    "for i in range(0, 101):\n",
    "    print(i, \":\", np.percentile(data0_99, i))"
   ]
  },
  {
   "cell_type": "code",
   "execution_count": null,
   "metadata": {},
   "outputs": [],
   "source": []
  },
  {
   "cell_type": "markdown",
   "metadata": {},
   "source": [
    "Regarder les différentes valeurs que le paramètre interpolation peut prendre dans la fonction numpy.percentile (…) à la page\n",
    "\n",
    "https://numpy.org/doc/stable/reference/generated/numpy.percentile.html\n",
    "\n",
    "Chaque méthode peut donner des centiles différents pour la même liste de données."
   ]
  },
  {
   "cell_type": "code",
   "execution_count": 31,
   "metadata": {},
   "outputs": [],
   "source": [
    "interp = ['linear', 'lower', 'higher', 'midpoint', 'nearest']"
   ]
  },
  {
   "cell_type": "code",
   "execution_count": 32,
   "metadata": {
    "scrolled": false
   },
   "outputs": [
    {
     "name": "stdout",
     "output_type": "stream",
     "text": [
      "linear\n",
      "0 : 0.0\n",
      "1 : 0.99\n",
      "2 : 1.98\n",
      "3 : 2.9699999999999998\n",
      "4 : 3.96\n",
      "5 : 4.95\n",
      "6 : 5.9399999999999995\n",
      "7 : 6.930000000000001\n",
      "8 : 7.92\n",
      "9 : 8.91\n",
      "10 : 9.9\n",
      "11 : 10.89\n",
      "12 : 11.879999999999999\n",
      "13 : 12.870000000000001\n",
      "14 : 13.860000000000001\n",
      "15 : 14.85\n",
      "16 : 15.84\n",
      "17 : 16.830000000000002\n",
      "18 : 17.82\n",
      "19 : 18.81\n",
      "20 : 19.8\n",
      "21 : 20.79\n",
      "22 : 21.78\n",
      "23 : 22.77\n",
      "24 : 23.759999999999998\n",
      "25 : 24.75\n",
      "26 : 25.740000000000002\n",
      "27 : 26.73\n",
      "28 : 27.720000000000002\n",
      "29 : 28.709999999999997\n",
      "30 : 29.7\n",
      "31 : 30.69\n",
      "32 : 31.68\n",
      "33 : 32.67\n",
      "34 : 33.660000000000004\n",
      "35 : 34.65\n",
      "36 : 35.64\n",
      "37 : 36.63\n",
      "38 : 37.62\n",
      "39 : 38.61\n",
      "40 : 39.6\n",
      "41 : 40.589999999999996\n",
      "42 : 41.58\n",
      "43 : 42.57\n",
      "44 : 43.56\n",
      "45 : 44.550000000000004\n",
      "46 : 45.54\n",
      "47 : 46.529999999999994\n",
      "48 : 47.519999999999996\n",
      "49 : 48.51\n",
      "50 : 49.5\n",
      "51 : 50.49\n",
      "52 : 51.480000000000004\n",
      "53 : 52.470000000000006\n",
      "54 : 53.46\n",
      "55 : 54.45\n",
      "56 : 55.440000000000005\n",
      "57 : 56.42999999999999\n",
      "58 : 57.419999999999995\n",
      "59 : 58.41\n",
      "60 : 59.4\n",
      "61 : 60.39\n",
      "62 : 61.38\n",
      "63 : 62.37\n",
      "64 : 63.36\n",
      "65 : 64.35000000000001\n",
      "66 : 65.34\n",
      "67 : 66.33\n",
      "68 : 67.32000000000001\n",
      "69 : 68.30999999999999\n",
      "70 : 69.3\n",
      "71 : 70.28999999999999\n",
      "72 : 71.28\n",
      "73 : 72.27\n",
      "74 : 73.26\n",
      "75 : 74.25\n",
      "76 : 75.24\n",
      "77 : 76.23\n",
      "78 : 77.22\n",
      "79 : 78.21000000000001\n",
      "80 : 79.2\n",
      "81 : 80.19000000000001\n",
      "82 : 81.17999999999999\n",
      "83 : 82.17\n",
      "84 : 83.16\n",
      "85 : 84.14999999999999\n",
      "86 : 85.14\n",
      "87 : 86.13\n",
      "88 : 87.12\n",
      "89 : 88.11\n",
      "90 : 89.10000000000001\n",
      "91 : 90.09\n",
      "92 : 91.08\n",
      "93 : 92.07000000000001\n",
      "94 : 93.05999999999999\n",
      "95 : 94.05\n",
      "96 : 95.03999999999999\n",
      "97 : 96.03\n",
      "98 : 97.02\n",
      "99 : 98.01\n",
      "100 : 99.0\n",
      "\n",
      "***************************************\n",
      "\n",
      "lower\n",
      "0 : 0\n",
      "1 : 0\n",
      "2 : 1\n",
      "3 : 2\n",
      "4 : 3\n",
      "5 : 4\n",
      "6 : 5\n",
      "7 : 6\n",
      "8 : 7\n",
      "9 : 8\n",
      "10 : 9\n",
      "11 : 10\n",
      "12 : 11\n",
      "13 : 12\n",
      "14 : 13\n",
      "15 : 14\n",
      "16 : 15\n",
      "17 : 16\n",
      "18 : 17\n",
      "19 : 18\n",
      "20 : 19\n",
      "21 : 20\n",
      "22 : 21\n",
      "23 : 22\n",
      "24 : 23\n",
      "25 : 24\n",
      "26 : 25\n",
      "27 : 26\n",
      "28 : 27\n",
      "29 : 28\n",
      "30 : 29\n",
      "31 : 30\n",
      "32 : 31\n",
      "33 : 32\n",
      "34 : 33\n",
      "35 : 34\n",
      "36 : 35\n",
      "37 : 36\n",
      "38 : 37\n",
      "39 : 38\n",
      "40 : 39\n",
      "41 : 40\n",
      "42 : 41\n",
      "43 : 42\n",
      "44 : 43\n",
      "45 : 44\n",
      "46 : 45\n",
      "47 : 46\n",
      "48 : 47\n",
      "49 : 48\n",
      "50 : 49\n",
      "51 : 50\n",
      "52 : 51\n",
      "53 : 52\n",
      "54 : 53\n",
      "55 : 54\n",
      "56 : 55\n",
      "57 : 56\n",
      "58 : 57\n",
      "59 : 58\n",
      "60 : 59\n",
      "61 : 60\n",
      "62 : 61\n",
      "63 : 62\n",
      "64 : 63\n",
      "65 : 64\n",
      "66 : 65\n",
      "67 : 66\n",
      "68 : 67\n",
      "69 : 68\n",
      "70 : 69\n",
      "71 : 70\n",
      "72 : 71\n",
      "73 : 72\n",
      "74 : 73\n",
      "75 : 74\n",
      "76 : 75\n",
      "77 : 76\n",
      "78 : 77\n",
      "79 : 78\n",
      "80 : 79\n",
      "81 : 80\n",
      "82 : 81\n",
      "83 : 82\n",
      "84 : 83\n",
      "85 : 84\n",
      "86 : 85\n",
      "87 : 86\n",
      "88 : 87\n",
      "89 : 88\n",
      "90 : 89\n",
      "91 : 90\n",
      "92 : 91\n",
      "93 : 92\n",
      "94 : 93\n",
      "95 : 94\n",
      "96 : 95\n",
      "97 : 96\n",
      "98 : 97\n",
      "99 : 98\n",
      "100 : 99\n",
      "\n",
      "***************************************\n",
      "\n",
      "higher\n",
      "0 : 0\n",
      "1 : 1\n",
      "2 : 2\n",
      "3 : 3\n",
      "4 : 4\n",
      "5 : 5\n",
      "6 : 6\n",
      "7 : 7\n",
      "8 : 8\n",
      "9 : 9\n",
      "10 : 10\n",
      "11 : 11\n",
      "12 : 12\n",
      "13 : 13\n",
      "14 : 14\n",
      "15 : 15\n",
      "16 : 16\n",
      "17 : 17\n",
      "18 : 18\n",
      "19 : 19\n",
      "20 : 20\n",
      "21 : 21\n",
      "22 : 22\n",
      "23 : 23\n",
      "24 : 24\n",
      "25 : 25\n",
      "26 : 26\n",
      "27 : 27\n",
      "28 : 28\n",
      "29 : 29\n",
      "30 : 30\n",
      "31 : 31\n",
      "32 : 32\n",
      "33 : 33\n",
      "34 : 34\n",
      "35 : 35\n",
      "36 : 36\n",
      "37 : 37\n",
      "38 : 38\n",
      "39 : 39\n",
      "40 : 40\n",
      "41 : 41\n",
      "42 : 42\n",
      "43 : 43\n",
      "44 : 44\n",
      "45 : 45\n",
      "46 : 46\n",
      "47 : 47\n",
      "48 : 48\n",
      "49 : 49\n",
      "50 : 50\n",
      "51 : 51\n",
      "52 : 52\n",
      "53 : 53\n",
      "54 : 54\n",
      "55 : 55\n",
      "56 : 56\n",
      "57 : 57\n",
      "58 : 58\n",
      "59 : 59\n",
      "60 : 60\n",
      "61 : 61\n",
      "62 : 62\n",
      "63 : 63\n",
      "64 : 64\n",
      "65 : 65\n",
      "66 : 66\n",
      "67 : 67\n",
      "68 : 68\n",
      "69 : 69\n",
      "70 : 70\n",
      "71 : 71\n",
      "72 : 72\n",
      "73 : 73\n",
      "74 : 74\n",
      "75 : 75\n",
      "76 : 76\n",
      "77 : 77\n",
      "78 : 78\n",
      "79 : 79\n",
      "80 : 80\n",
      "81 : 81\n",
      "82 : 82\n",
      "83 : 83\n",
      "84 : 84\n",
      "85 : 85\n",
      "86 : 86\n",
      "87 : 87\n",
      "88 : 88\n",
      "89 : 89\n",
      "90 : 90\n",
      "91 : 91\n",
      "92 : 92\n",
      "93 : 93\n",
      "94 : 94\n",
      "95 : 95\n",
      "96 : 96\n",
      "97 : 97\n",
      "98 : 98\n",
      "99 : 99\n",
      "100 : 99\n",
      "\n",
      "***************************************\n",
      "\n",
      "midpoint\n",
      "0 : 0.0\n",
      "1 : 0.5\n",
      "2 : 1.5\n",
      "3 : 2.5\n",
      "4 : 3.5\n",
      "5 : 4.5\n",
      "6 : 5.5\n",
      "7 : 6.5\n",
      "8 : 7.5\n",
      "9 : 8.5\n",
      "10 : 9.5\n",
      "11 : 10.5\n",
      "12 : 11.5\n",
      "13 : 12.5\n",
      "14 : 13.5\n",
      "15 : 14.5\n",
      "16 : 15.5\n",
      "17 : 16.5\n",
      "18 : 17.5\n",
      "19 : 18.5\n",
      "20 : 19.5\n",
      "21 : 20.5\n",
      "22 : 21.5\n",
      "23 : 22.5\n",
      "24 : 23.5\n",
      "25 : 24.5\n",
      "26 : 25.5\n",
      "27 : 26.5\n",
      "28 : 27.5\n",
      "29 : 28.5\n",
      "30 : 29.5\n",
      "31 : 30.5\n",
      "32 : 31.5\n",
      "33 : 32.5\n",
      "34 : 33.5\n",
      "35 : 34.5\n",
      "36 : 35.5\n",
      "37 : 36.5\n",
      "38 : 37.5\n",
      "39 : 38.5\n",
      "40 : 39.5\n",
      "41 : 40.5\n",
      "42 : 41.5\n",
      "43 : 42.5\n",
      "44 : 43.5\n",
      "45 : 44.5\n",
      "46 : 45.5\n",
      "47 : 46.5\n",
      "48 : 47.5\n",
      "49 : 48.5\n",
      "50 : 49.5\n",
      "51 : 50.5\n",
      "52 : 51.5\n",
      "53 : 52.5\n",
      "54 : 53.5\n",
      "55 : 54.5\n",
      "56 : 55.5\n",
      "57 : 56.5\n",
      "58 : 57.5\n",
      "59 : 58.5\n",
      "60 : 59.5\n",
      "61 : 60.5\n",
      "62 : 61.5\n",
      "63 : 62.5\n",
      "64 : 63.5\n",
      "65 : 64.5\n",
      "66 : 65.5\n",
      "67 : 66.5\n",
      "68 : 67.5\n",
      "69 : 68.5\n",
      "70 : 69.5\n",
      "71 : 70.5\n",
      "72 : 71.5\n",
      "73 : 72.5\n",
      "74 : 73.5\n",
      "75 : 74.5\n",
      "76 : 75.5\n",
      "77 : 76.5\n",
      "78 : 77.5\n",
      "79 : 78.5\n",
      "80 : 79.5\n",
      "81 : 80.5\n",
      "82 : 81.5\n",
      "83 : 82.5\n",
      "84 : 83.5\n",
      "85 : 84.5\n",
      "86 : 85.5\n",
      "87 : 86.5\n",
      "88 : 87.5\n",
      "89 : 88.5\n",
      "90 : 89.5\n",
      "91 : 90.5\n",
      "92 : 91.5\n",
      "93 : 92.5\n",
      "94 : 93.5\n",
      "95 : 94.5\n",
      "96 : 95.5\n",
      "97 : 96.5\n",
      "98 : 97.5\n",
      "99 : 98.5\n",
      "100 : 99.0\n",
      "\n",
      "***************************************\n",
      "\n",
      "nearest\n",
      "0 : 0\n",
      "1 : 1\n",
      "2 : 2\n",
      "3 : 3\n",
      "4 : 4\n",
      "5 : 5\n",
      "6 : 6\n",
      "7 : 7\n",
      "8 : 8\n",
      "9 : 9\n",
      "10 : 10\n",
      "11 : 11\n",
      "12 : 12\n",
      "13 : 13\n",
      "14 : 14\n",
      "15 : 15\n",
      "16 : 16\n",
      "17 : 17\n",
      "18 : 18\n",
      "19 : 19\n",
      "20 : 20\n",
      "21 : 21\n",
      "22 : 22\n",
      "23 : 23\n",
      "24 : 24\n",
      "25 : 25\n",
      "26 : 26\n",
      "27 : 27\n",
      "28 : 28\n",
      "29 : 29\n",
      "30 : 30\n",
      "31 : 31\n",
      "32 : 32\n",
      "33 : 33\n",
      "34 : 34\n",
      "35 : 35\n",
      "36 : 36\n",
      "37 : 37\n",
      "38 : 38\n",
      "39 : 39\n",
      "40 : 40\n",
      "41 : 41\n",
      "42 : 42\n",
      "43 : 43\n",
      "44 : 44\n",
      "45 : 45\n",
      "46 : 46\n",
      "47 : 47\n",
      "48 : 48\n",
      "49 : 49\n",
      "50 : 50\n",
      "51 : 50\n",
      "52 : 51\n",
      "53 : 52\n",
      "54 : 53\n",
      "55 : 54\n",
      "56 : 55\n",
      "57 : 56\n",
      "58 : 57\n",
      "59 : 58\n",
      "60 : 59\n",
      "61 : 60\n",
      "62 : 61\n",
      "63 : 62\n",
      "64 : 63\n",
      "65 : 64\n",
      "66 : 65\n",
      "67 : 66\n",
      "68 : 67\n",
      "69 : 68\n",
      "70 : 69\n",
      "71 : 70\n",
      "72 : 71\n",
      "73 : 72\n",
      "74 : 73\n",
      "75 : 74\n",
      "76 : 75\n",
      "77 : 76\n",
      "78 : 77\n",
      "79 : 78\n",
      "80 : 79\n",
      "81 : 80\n",
      "82 : 81\n",
      "83 : 82\n",
      "84 : 83\n",
      "85 : 84\n",
      "86 : 85\n",
      "87 : 86\n",
      "88 : 87\n",
      "89 : 88\n",
      "90 : 89\n",
      "91 : 90\n",
      "92 : 91\n",
      "93 : 92\n",
      "94 : 93\n",
      "95 : 94\n",
      "96 : 95\n",
      "97 : 96\n",
      "98 : 97\n",
      "99 : 98\n",
      "100 : 99\n",
      "\n",
      "***************************************\n",
      "\n"
     ]
    }
   ],
   "source": [
    "for inter in interp:\n",
    "    print(inter)\n",
    "    for i in range(0, 101):\n",
    "        print(i, \":\", np.percentile(data0_99, i, interpolation = inter))\n",
    "    print(\"\")\n",
    "    print(\"***************************************\")\n",
    "    print(\"\")"
   ]
  },
  {
   "cell_type": "markdown",
   "metadata": {},
   "source": [
    "Avec des valeurs différents pour le paramètre interpolation on obtient des centiles différents. La valeur interpolation = ‘higher’ donne des résultats plus proches à ceux qu’on s’attendait."
   ]
  },
  {
   "cell_type": "code",
   "execution_count": null,
   "metadata": {},
   "outputs": [],
   "source": []
  },
  {
   "cell_type": "code",
   "execution_count": 33,
   "metadata": {
    "scrolled": true
   },
   "outputs": [
    {
     "data": {
      "text/plain": [
       "[0,\n",
       " 1,\n",
       " 2,\n",
       " 3,\n",
       " 4,\n",
       " 5,\n",
       " 6,\n",
       " 7,\n",
       " 8,\n",
       " 9,\n",
       " 10,\n",
       " 11,\n",
       " 12,\n",
       " 13,\n",
       " 14,\n",
       " 15,\n",
       " 16,\n",
       " 17,\n",
       " 18,\n",
       " 19,\n",
       " 20,\n",
       " 21,\n",
       " 22,\n",
       " 23,\n",
       " 24,\n",
       " 25,\n",
       " 26,\n",
       " 27,\n",
       " 28,\n",
       " 29,\n",
       " 30,\n",
       " 31,\n",
       " 32,\n",
       " 33,\n",
       " 34,\n",
       " 35,\n",
       " 36,\n",
       " 37,\n",
       " 38,\n",
       " 39,\n",
       " 40,\n",
       " 41,\n",
       " 42,\n",
       " 43,\n",
       " 44,\n",
       " 45,\n",
       " 46,\n",
       " 47,\n",
       " 48,\n",
       " 49,\n",
       " 50,\n",
       " 51,\n",
       " 52,\n",
       " 53,\n",
       " 54,\n",
       " 55,\n",
       " 56,\n",
       " 57,\n",
       " 58,\n",
       " 59,\n",
       " 60,\n",
       " 61,\n",
       " 62,\n",
       " 63,\n",
       " 64,\n",
       " 65,\n",
       " 66,\n",
       " 67,\n",
       " 68,\n",
       " 69,\n",
       " 70,\n",
       " 71,\n",
       " 72,\n",
       " 73,\n",
       " 74,\n",
       " 75,\n",
       " 76,\n",
       " 77,\n",
       " 78,\n",
       " 79,\n",
       " 80,\n",
       " 81,\n",
       " 82,\n",
       " 83,\n",
       " 84,\n",
       " 85,\n",
       " 86,\n",
       " 87,\n",
       " 88,\n",
       " 89,\n",
       " 90,\n",
       " 91,\n",
       " 92,\n",
       " 93,\n",
       " 94,\n",
       " 95,\n",
       " 96,\n",
       " 97,\n",
       " 98,\n",
       " 99,\n",
       " 100]"
      ]
     },
     "execution_count": 33,
     "metadata": {},
     "output_type": "execute_result"
    }
   ],
   "source": [
    "data0_100 = [*range(0, 101)]\n",
    "data0_100"
   ]
  },
  {
   "cell_type": "code",
   "execution_count": 34,
   "metadata": {
    "scrolled": false
   },
   "outputs": [
    {
     "name": "stdout",
     "output_type": "stream",
     "text": [
      "linear\n",
      "0 : 0.0\n",
      "1 : 1.0\n",
      "2 : 2.0\n",
      "3 : 3.0\n",
      "4 : 4.0\n",
      "5 : 5.0\n",
      "6 : 6.0\n",
      "7 : 7.000000000000001\n",
      "8 : 8.0\n",
      "9 : 9.0\n",
      "10 : 10.0\n",
      "11 : 11.0\n",
      "12 : 12.0\n",
      "13 : 13.0\n",
      "14 : 14.000000000000002\n",
      "15 : 15.0\n",
      "16 : 16.0\n",
      "17 : 17.0\n",
      "18 : 18.0\n",
      "19 : 19.0\n",
      "20 : 20.0\n",
      "21 : 21.0\n",
      "22 : 22.0\n",
      "23 : 23.0\n",
      "24 : 24.0\n",
      "25 : 25.0\n",
      "26 : 26.0\n",
      "27 : 27.0\n",
      "28 : 28.000000000000004\n",
      "29 : 28.999999999999996\n",
      "30 : 30.0\n",
      "31 : 31.0\n",
      "32 : 32.0\n",
      "33 : 33.0\n",
      "34 : 34.0\n",
      "35 : 35.0\n",
      "36 : 36.0\n",
      "37 : 37.0\n",
      "38 : 38.0\n",
      "39 : 39.0\n",
      "40 : 40.0\n",
      "41 : 41.0\n",
      "42 : 42.0\n",
      "43 : 43.0\n",
      "44 : 44.0\n",
      "45 : 45.0\n",
      "46 : 46.0\n",
      "47 : 47.0\n",
      "48 : 48.0\n",
      "49 : 49.0\n",
      "50 : 50.0\n",
      "51 : 51.0\n",
      "52 : 52.0\n",
      "53 : 53.0\n",
      "54 : 54.0\n",
      "55 : 55.00000000000001\n",
      "56 : 56.00000000000001\n",
      "57 : 56.99999999999999\n",
      "58 : 57.99999999999999\n",
      "59 : 59.0\n",
      "60 : 60.0\n",
      "61 : 61.0\n",
      "62 : 62.0\n",
      "63 : 63.0\n",
      "64 : 64.0\n",
      "65 : 65.0\n",
      "66 : 66.0\n",
      "67 : 67.0\n",
      "68 : 68.0\n",
      "69 : 69.0\n",
      "70 : 70.0\n",
      "71 : 71.0\n",
      "72 : 72.0\n",
      "73 : 73.0\n",
      "74 : 74.0\n",
      "75 : 75.0\n",
      "76 : 76.0\n",
      "77 : 77.0\n",
      "78 : 78.0\n",
      "79 : 79.0\n",
      "80 : 80.0\n",
      "81 : 81.0\n",
      "82 : 82.0\n",
      "83 : 83.0\n",
      "84 : 84.0\n",
      "85 : 85.0\n",
      "86 : 86.0\n",
      "87 : 87.0\n",
      "88 : 88.0\n",
      "89 : 89.0\n",
      "90 : 90.0\n",
      "91 : 91.0\n",
      "92 : 92.0\n",
      "93 : 93.0\n",
      "94 : 94.0\n",
      "95 : 95.0\n",
      "96 : 96.0\n",
      "97 : 97.0\n",
      "98 : 98.0\n",
      "99 : 99.0\n",
      "100 : 100.0\n",
      "\n",
      "***************************************\n",
      "\n",
      "lower\n",
      "0 : 0\n",
      "1 : 1\n",
      "2 : 2\n",
      "3 : 3\n",
      "4 : 4\n",
      "5 : 5\n",
      "6 : 6\n",
      "7 : 7\n",
      "8 : 8\n",
      "9 : 9\n",
      "10 : 10\n",
      "11 : 11\n",
      "12 : 12\n",
      "13 : 13\n",
      "14 : 14\n",
      "15 : 15\n",
      "16 : 16\n",
      "17 : 17\n",
      "18 : 18\n",
      "19 : 19\n",
      "20 : 20\n",
      "21 : 21\n",
      "22 : 22\n",
      "23 : 23\n",
      "24 : 24\n",
      "25 : 25\n",
      "26 : 26\n",
      "27 : 27\n",
      "28 : 28\n",
      "29 : 28\n",
      "30 : 30\n",
      "31 : 31\n",
      "32 : 32\n",
      "33 : 33\n",
      "34 : 34\n",
      "35 : 35\n",
      "36 : 36\n",
      "37 : 37\n",
      "38 : 38\n",
      "39 : 39\n",
      "40 : 40\n",
      "41 : 41\n",
      "42 : 42\n",
      "43 : 43\n",
      "44 : 44\n",
      "45 : 45\n",
      "46 : 46\n",
      "47 : 47\n",
      "48 : 48\n",
      "49 : 49\n",
      "50 : 50\n",
      "51 : 51\n",
      "52 : 52\n",
      "53 : 53\n",
      "54 : 54\n",
      "55 : 55\n",
      "56 : 56\n",
      "57 : 56\n",
      "58 : 57\n",
      "59 : 59\n",
      "60 : 60\n",
      "61 : 61\n",
      "62 : 62\n",
      "63 : 63\n",
      "64 : 64\n",
      "65 : 65\n",
      "66 : 66\n",
      "67 : 67\n",
      "68 : 68\n",
      "69 : 69\n",
      "70 : 70\n",
      "71 : 71\n",
      "72 : 72\n",
      "73 : 73\n",
      "74 : 74\n",
      "75 : 75\n",
      "76 : 76\n",
      "77 : 77\n",
      "78 : 78\n",
      "79 : 79\n",
      "80 : 80\n",
      "81 : 81\n",
      "82 : 82\n",
      "83 : 83\n",
      "84 : 84\n",
      "85 : 85\n",
      "86 : 86\n",
      "87 : 87\n",
      "88 : 88\n",
      "89 : 89\n",
      "90 : 90\n",
      "91 : 91\n",
      "92 : 92\n",
      "93 : 93\n",
      "94 : 94\n",
      "95 : 95\n",
      "96 : 96\n",
      "97 : 97\n",
      "98 : 98\n",
      "99 : 99\n",
      "100 : 100\n",
      "\n",
      "***************************************\n",
      "\n",
      "higher\n",
      "0 : 0\n",
      "1 : 1\n",
      "2 : 2\n",
      "3 : 3\n",
      "4 : 4\n",
      "5 : 5\n",
      "6 : 6\n",
      "7 : 8\n",
      "8 : 8\n",
      "9 : 9\n",
      "10 : 10\n",
      "11 : 11\n",
      "12 : 12\n",
      "13 : 13\n",
      "14 : 15\n",
      "15 : 15\n",
      "16 : 16\n",
      "17 : 17\n",
      "18 : 18\n",
      "19 : 19\n",
      "20 : 20\n",
      "21 : 21\n",
      "22 : 22\n",
      "23 : 23\n",
      "24 : 24\n",
      "25 : 25\n",
      "26 : 26\n",
      "27 : 27\n",
      "28 : 29\n",
      "29 : 29\n",
      "30 : 30\n",
      "31 : 31\n",
      "32 : 32\n",
      "33 : 33\n",
      "34 : 34\n",
      "35 : 35\n",
      "36 : 36\n",
      "37 : 37\n",
      "38 : 38\n",
      "39 : 39\n",
      "40 : 40\n",
      "41 : 41\n",
      "42 : 42\n",
      "43 : 43\n",
      "44 : 44\n",
      "45 : 45\n",
      "46 : 46\n",
      "47 : 47\n",
      "48 : 48\n",
      "49 : 49\n",
      "50 : 50\n",
      "51 : 51\n",
      "52 : 52\n",
      "53 : 53\n",
      "54 : 54\n",
      "55 : 56\n",
      "56 : 57\n",
      "57 : 57\n",
      "58 : 58\n",
      "59 : 59\n",
      "60 : 60\n",
      "61 : 61\n",
      "62 : 62\n",
      "63 : 63\n",
      "64 : 64\n",
      "65 : 65\n",
      "66 : 66\n",
      "67 : 67\n",
      "68 : 68\n",
      "69 : 69\n",
      "70 : 70\n",
      "71 : 71\n",
      "72 : 72\n",
      "73 : 73\n",
      "74 : 74\n",
      "75 : 75\n",
      "76 : 76\n",
      "77 : 77\n",
      "78 : 78\n",
      "79 : 79\n",
      "80 : 80\n",
      "81 : 81\n",
      "82 : 82\n",
      "83 : 83\n",
      "84 : 84\n",
      "85 : 85\n",
      "86 : 86\n",
      "87 : 87\n",
      "88 : 88\n",
      "89 : 89\n",
      "90 : 90\n",
      "91 : 91\n",
      "92 : 92\n",
      "93 : 93\n",
      "94 : 94\n",
      "95 : 95\n",
      "96 : 96\n",
      "97 : 97\n",
      "98 : 98\n",
      "99 : 99\n",
      "100 : 100\n",
      "\n",
      "***************************************\n",
      "\n",
      "midpoint\n",
      "0 : 0.0\n",
      "1 : 1.0\n",
      "2 : 2.0\n",
      "3 : 3.0\n",
      "4 : 4.0\n",
      "5 : 5.0\n",
      "6 : 6.0\n",
      "7 : 7.5\n",
      "8 : 8.0\n",
      "9 : 9.0\n",
      "10 : 10.0\n",
      "11 : 11.0\n",
      "12 : 12.0\n",
      "13 : 13.0\n",
      "14 : 14.5\n",
      "15 : 15.0\n",
      "16 : 16.0\n",
      "17 : 17.0\n",
      "18 : 18.0\n",
      "19 : 19.0\n",
      "20 : 20.0\n",
      "21 : 21.0\n",
      "22 : 22.0\n",
      "23 : 23.0\n",
      "24 : 24.0\n",
      "25 : 25.0\n",
      "26 : 26.0\n",
      "27 : 27.0\n",
      "28 : 28.5\n",
      "29 : 28.5\n",
      "30 : 30.0\n",
      "31 : 31.0\n",
      "32 : 32.0\n",
      "33 : 33.0\n",
      "34 : 34.0\n",
      "35 : 35.0\n",
      "36 : 36.0\n",
      "37 : 37.0\n",
      "38 : 38.0\n",
      "39 : 39.0\n",
      "40 : 40.0\n",
      "41 : 41.0\n",
      "42 : 42.0\n",
      "43 : 43.0\n",
      "44 : 44.0\n",
      "45 : 45.0\n",
      "46 : 46.0\n",
      "47 : 47.0\n",
      "48 : 48.0\n",
      "49 : 49.0\n",
      "50 : 50.0\n",
      "51 : 51.0\n",
      "52 : 52.0\n",
      "53 : 53.0\n",
      "54 : 54.0\n",
      "55 : 55.5\n",
      "56 : 56.5\n",
      "57 : 56.5\n",
      "58 : 57.5\n",
      "59 : 59.0\n",
      "60 : 60.0\n",
      "61 : 61.0\n",
      "62 : 62.0\n",
      "63 : 63.0\n",
      "64 : 64.0\n",
      "65 : 65.0\n",
      "66 : 66.0\n",
      "67 : 67.0\n",
      "68 : 68.0\n",
      "69 : 69.0\n",
      "70 : 70.0\n",
      "71 : 71.0\n",
      "72 : 72.0\n",
      "73 : 73.0\n",
      "74 : 74.0\n",
      "75 : 75.0\n",
      "76 : 76.0\n",
      "77 : 77.0\n",
      "78 : 78.0\n",
      "79 : 79.0\n",
      "80 : 80.0\n",
      "81 : 81.0\n",
      "82 : 82.0\n",
      "83 : 83.0\n",
      "84 : 84.0\n",
      "85 : 85.0\n",
      "86 : 86.0\n",
      "87 : 87.0\n",
      "88 : 88.0\n",
      "89 : 89.0\n",
      "90 : 90.0\n",
      "91 : 91.0\n",
      "92 : 92.0\n",
      "93 : 93.0\n",
      "94 : 94.0\n",
      "95 : 95.0\n",
      "96 : 96.0\n",
      "97 : 97.0\n",
      "98 : 98.0\n",
      "99 : 99.0\n",
      "100 : 100.0\n",
      "\n",
      "***************************************\n",
      "\n",
      "nearest\n",
      "0 : 0\n",
      "1 : 1\n",
      "2 : 2\n",
      "3 : 3\n",
      "4 : 4\n",
      "5 : 5\n",
      "6 : 6\n",
      "7 : 7\n",
      "8 : 8\n",
      "9 : 9\n",
      "10 : 10\n",
      "11 : 11\n",
      "12 : 12\n",
      "13 : 13\n",
      "14 : 14\n",
      "15 : 15\n",
      "16 : 16\n",
      "17 : 17\n",
      "18 : 18\n",
      "19 : 19\n",
      "20 : 20\n",
      "21 : 21\n",
      "22 : 22\n",
      "23 : 23\n",
      "24 : 24\n",
      "25 : 25\n",
      "26 : 26\n",
      "27 : 27\n",
      "28 : 28\n",
      "29 : 29\n",
      "30 : 30\n",
      "31 : 31\n",
      "32 : 32\n",
      "33 : 33\n",
      "34 : 34\n",
      "35 : 35\n",
      "36 : 36\n",
      "37 : 37\n",
      "38 : 38\n",
      "39 : 39\n",
      "40 : 40\n",
      "41 : 41\n",
      "42 : 42\n",
      "43 : 43\n",
      "44 : 44\n",
      "45 : 45\n",
      "46 : 46\n",
      "47 : 47\n",
      "48 : 48\n",
      "49 : 49\n",
      "50 : 50\n",
      "51 : 51\n",
      "52 : 52\n",
      "53 : 53\n",
      "54 : 54\n",
      "55 : 55\n",
      "56 : 56\n",
      "57 : 57\n",
      "58 : 58\n",
      "59 : 59\n",
      "60 : 60\n",
      "61 : 61\n",
      "62 : 62\n",
      "63 : 63\n",
      "64 : 64\n",
      "65 : 65\n",
      "66 : 66\n",
      "67 : 67\n",
      "68 : 68\n",
      "69 : 69\n",
      "70 : 70\n",
      "71 : 71\n",
      "72 : 72\n",
      "73 : 73\n",
      "74 : 74\n",
      "75 : 75\n",
      "76 : 76\n",
      "77 : 77\n",
      "78 : 78\n",
      "79 : 79\n",
      "80 : 80\n",
      "81 : 81\n",
      "82 : 82\n",
      "83 : 83\n",
      "84 : 84\n",
      "85 : 85\n",
      "86 : 86\n",
      "87 : 87\n",
      "88 : 88\n",
      "89 : 89\n",
      "90 : 90\n",
      "91 : 91\n",
      "92 : 92\n",
      "93 : 93\n",
      "94 : 94\n",
      "95 : 95\n",
      "96 : 96\n",
      "97 : 97\n",
      "98 : 98\n",
      "99 : 99\n",
      "100 : 100\n",
      "\n",
      "***************************************\n",
      "\n"
     ]
    }
   ],
   "source": [
    "for inter in interp:\n",
    "    print(inter)\n",
    "    for i in range(0, 101):\n",
    "        print(i, \":\", np.percentile(data0_100, i, interpolation = inter))\n",
    "    print(\"\")\n",
    "    print(\"***************************************\")\n",
    "    print(\"\")"
   ]
  },
  {
   "cell_type": "markdown",
   "metadata": {},
   "source": [
    "Avec la liste [0-100], toutes les méthodes donnent presque les mêmes centiles."
   ]
  },
  {
   "cell_type": "markdown",
   "metadata": {},
   "source": [
    "On remarque qu’avec Numpy on a aussi les centiles 0 et 100, alors que dans le cours on a vu des centiles de 1 à 99."
   ]
  },
  {
   "cell_type": "code",
   "execution_count": null,
   "metadata": {},
   "outputs": [],
   "source": []
  },
  {
   "cell_type": "markdown",
   "metadata": {},
   "source": [
    "**Boites à moustaches**"
   ]
  },
  {
   "cell_type": "code",
   "execution_count": 35,
   "metadata": {},
   "outputs": [],
   "source": [
    "data = [1.1, 1.7, 1.7, 1.1, 1.1, 1.4, 1.1, 1.4, 1.0, 1.2, 1.1, 1.1, 1.1, 1.1, 1.1, 1.8, 1.6, 1.1, 1.2, 1.5,\n",
    "1.3, 1.1, 1.3, 1.1, 1.1]"
   ]
  },
  {
   "cell_type": "code",
   "execution_count": 36,
   "metadata": {},
   "outputs": [
    {
     "data": {
      "image/png": "[encoded data removed]",
      "text/plain": [
       "<Figure size 640x480 with 1 Axes>"
      ]
     },
     "metadata": {},
     "output_type": "display_data"
    }
   ],
   "source": [
    "plt.boxplot(data, vert = False);"
   ]
  },
  {
   "cell_type": "code",
   "execution_count": 37,
   "metadata": {},
   "outputs": [],
   "source": [
    "data_ = [1.3, 1.2, 1.8, 1.7, 1.1, 1.6, 1.5, 1.0, 1.4, 1.8, 1.3, 1.1, 1.4, 1.6, 1.7, 1.5, 1.0, 1.2, 1.1, 1.5, 1.6, 1.2, 1.8, 1.0, 1.3, 1.7, 1.4]"
   ]
  },
  {
   "cell_type": "code",
   "execution_count": 38,
   "metadata": {},
   "outputs": [
    {
     "data": {
      "image/png": "[encoded data removed]",
      "text/plain": [
       "<Figure size 640x480 with 1 Axes>"
      ]
     },
     "metadata": {},
     "output_type": "display_data"
    }
   ],
   "source": [
    "plt.boxplot([data, data_], vert = False);"
   ]
  },
  {
   "cell_type": "code",
   "execution_count": null,
   "metadata": {},
   "outputs": [],
   "source": []
  },
  {
   "cell_type": "code",
   "execution_count": null,
   "metadata": {},
   "outputs": [],
   "source": []
  }
 ],
 "metadata": {
  "kernelspec": {
   "display_name": "Python 3.10.4 64-bit",
   "language": "python",
   "name": "python3"
  },
  "language_info": {
   "codemirror_mode": {
    "name": "ipython",
    "version": 3
   },
   "file_extension": ".py",
   "mimetype": "text/x-python",
   "name": "python",
   "nbconvert_exporter": "python",
   "pygments_lexer": "ipython3",
   "version": "3.10.4"
  },
  "vscode": {
   "interpreter": {
    "hash": "916dbcbb3f70747c44a77c7bcd40155683ae19c65e1c03b4aa3499c5328201f1"
   }
  }
 },
 "nbformat": 4,
 "nbformat_minor": 4
}
