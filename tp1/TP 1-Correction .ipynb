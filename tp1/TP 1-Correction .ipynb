{
 "cells": [
  {
   "cell_type": "code",
   "execution_count": 1,
   "id": "2cc279bb",
   "metadata": {},
   "outputs": [],
   "source": [
    "import numpy as np\n",
    "import pandas as pd\n",
    "\n",
    "import matplotlib.pyplot as plt\n",
    "import seaborn as sns"
   ]
  },
  {
   "cell_type": "code",
   "execution_count": null,
   "id": "f612cd1e",
   "metadata": {},
   "outputs": [],
   "source": []
  },
  {
   "cell_type": "markdown",
   "id": "22568bea",
   "metadata": {},
   "source": [
    "**Exercise 1**"
   ]
  },
  {
   "cell_type": "code",
   "execution_count": 9,
   "id": "f179f7ef",
   "metadata": {},
   "outputs": [],
   "source": [
    "data1 = pd.Series([1.1, 1.7, 1.7, 1.1, 1.1, 1.4, 1.1, 1.4, 1.0, 1.2, 1.1, 1.1, 1.1, 1.1, 1.1, 1.8, 1.6, 1.1, 1.2, 1.5,\n",
    "1.3, 1.1, 1.3, 1.1, 1.1])"
   ]
  },
  {
   "cell_type": "markdown",
   "id": "8d0d6687",
   "metadata": {},
   "source": [
    "On essaye de créer les limites des classes avec [*range(…)] de Python..."
   ]
  },
  {
   "cell_type": "code",
   "execution_count": 39,
   "id": "ae8d5750",
   "metadata": {},
   "outputs": [
    {
     "ename": "TypeError",
     "evalue": "'float' object cannot be interpreted as an integer",
     "output_type": "error",
     "traceback": [
      "\u001b[1;31m---------------------------------------------------------------------------\u001b[0m",
      "\u001b[1;31mTypeError\u001b[0m                                 Traceback (most recent call last)",
      "Input \u001b[1;32mIn [39]\u001b[0m, in \u001b[0;36m<cell line: 1>\u001b[1;34m()\u001b[0m\n\u001b[1;32m----> 1\u001b[0m bins2 \u001b[38;5;241m=\u001b[39m [\u001b[38;5;241m*\u001b[39m\u001b[38;5;28;43mrange\u001b[39;49m\u001b[43m(\u001b[49m\u001b[38;5;241;43m0.9\u001b[39;49m\u001b[43m,\u001b[49m\u001b[43m \u001b[49m\u001b[38;5;241;43m2\u001b[39;49m\u001b[43m,\u001b[49m\u001b[43m \u001b[49m\u001b[38;5;241;43m0.2\u001b[39;49m\u001b[43m)\u001b[49m]\n\u001b[0;32m      2\u001b[0m bins2\n",
      "\u001b[1;31mTypeError\u001b[0m: 'float' object cannot be interpreted as an integer"
     ]
    }
   ],
   "source": [
    "bins2 = [*range(0.9, 2, 0.2)]\n",
    "bins2"
   ]
  },
  {
   "cell_type": "markdown",
   "id": "ab99ac12",
   "metadata": {},
   "source": [
    "...mais cela ne marche pas car cette dernière prend seulement des entiers.\n",
    "\n",
    "Donc on utilise np.linspace."
   ]
  },
  {
   "cell_type": "code",
   "execution_count": 11,
   "id": "5ebd02e8",
   "metadata": {},
   "outputs": [
    {
     "data": {
      "text/plain": [
       "array([0.9, 1.1, 1.3, 1.5, 1.7, 1.9])"
      ]
     },
     "execution_count": 11,
     "metadata": {},
     "output_type": "execute_result"
    }
   ],
   "source": [
    "bins3 = np.linspace(0.9, 1.9, num = 6)\n",
    "bins3"
   ]
  },
  {
   "cell_type": "markdown",
   "id": "b446395b",
   "metadata": {},
   "source": [
    "1.a"
   ]
  },
  {
   "cell_type": "code",
   "execution_count": 12,
   "id": "db4c643a",
   "metadata": {},
   "outputs": [
    {
     "data": {
      "text/plain": [
       "(0.9, 1.1]    14\n",
       "(1.1, 1.3]     4\n",
       "(1.3, 1.5]     3\n",
       "(1.5, 1.7]     3\n",
       "(1.7, 1.9]     1\n",
       "dtype: int64"
      ]
     },
     "execution_count": 12,
     "metadata": {},
     "output_type": "execute_result"
    }
   ],
   "source": [
    "pd.cut(data1, bins = bins3).value_counts().sort_index()"
   ]
  },
  {
   "cell_type": "markdown",
   "id": "2def47ce",
   "metadata": {},
   "source": [
    "1.b"
   ]
  },
  {
   "cell_type": "code",
   "execution_count": 13,
   "id": "9433f71e",
   "metadata": {},
   "outputs": [
    {
     "data": {
      "text/plain": [
       "(0.9, 1.1]    0.56\n",
       "(1.1, 1.3]    0.16\n",
       "(1.3, 1.5]    0.12\n",
       "(1.5, 1.7]    0.12\n",
       "(1.7, 1.9]    0.04\n",
       "dtype: float64"
      ]
     },
     "execution_count": 13,
     "metadata": {},
     "output_type": "execute_result"
    }
   ],
   "source": [
    "pd.cut(data1, bins = bins3).value_counts(normalize = True).sort_index()"
   ]
  },
  {
   "cell_type": "markdown",
   "id": "9121b370",
   "metadata": {},
   "source": [
    "1.c"
   ]
  },
  {
   "cell_type": "code",
   "execution_count": 14,
   "id": "46c395da",
   "metadata": {},
   "outputs": [
    {
     "data": {
      "text/plain": [
       "(0.9, 1.1]    14\n",
       "(1.1, 1.3]    18\n",
       "(1.3, 1.5]    21\n",
       "(1.5, 1.7]    24\n",
       "(1.7, 1.9]    25\n",
       "dtype: int64"
      ]
     },
     "execution_count": 14,
     "metadata": {},
     "output_type": "execute_result"
    }
   ],
   "source": [
    "pd.cut(data1, bins = bins3).value_counts().sort_index().cumsum()"
   ]
  },
  {
   "cell_type": "code",
   "execution_count": null,
   "id": "db0374ba",
   "metadata": {},
   "outputs": [],
   "source": []
  },
  {
   "cell_type": "markdown",
   "id": "961ac3e3",
   "metadata": {},
   "source": [
    "Qu’est-ce qu’il se passe si on utilise une liste de Python à la place d’une série de Pandas pour construire les tableaux de fréquences ?"
   ]
  },
  {
   "cell_type": "code",
   "execution_count": 15,
   "id": "a6865f40",
   "metadata": {},
   "outputs": [],
   "source": [
    "data2 = [1.1, 1.7, 1.7, 1.1, 1.1, 1.4, 1.1, 1.4, 1.0, 1.2, 1.1, 1.1, 1.1, 1.1, 1.1, 1.8, 1.6, 1.1, 1.2, 1.5,\n",
    "1.3, 1.1, 1.3, 1.1, 1.1]"
   ]
  },
  {
   "cell_type": "code",
   "execution_count": 16,
   "id": "a0adb622",
   "metadata": {},
   "outputs": [
    {
     "data": {
      "text/plain": [
       "(0.9, 1.1]    14\n",
       "(1.1, 1.3]     4\n",
       "(1.3, 1.5]     3\n",
       "(1.5, 1.7]     3\n",
       "(1.7, 1.9]     1\n",
       "dtype: int64"
      ]
     },
     "execution_count": 16,
     "metadata": {},
     "output_type": "execute_result"
    }
   ],
   "source": [
    "pd.cut(data2, bins = bins3).value_counts().sort_index()"
   ]
  },
  {
   "cell_type": "code",
   "execution_count": 18,
   "id": "133a91a1",
   "metadata": {},
   "outputs": [
    {
     "ename": "TypeError",
     "evalue": "value_counts() got an unexpected keyword argument 'normalize'",
     "output_type": "error",
     "traceback": [
      "\u001b[1;31m---------------------------------------------------------------------------\u001b[0m",
      "\u001b[1;31mTypeError\u001b[0m                                 Traceback (most recent call last)",
      "Input \u001b[1;32mIn [18]\u001b[0m, in \u001b[0;36m<cell line: 1>\u001b[1;34m()\u001b[0m\n\u001b[1;32m----> 1\u001b[0m \u001b[43mpd\u001b[49m\u001b[38;5;241;43m.\u001b[39;49m\u001b[43mcut\u001b[49m\u001b[43m(\u001b[49m\u001b[43mdata2\u001b[49m\u001b[43m,\u001b[49m\u001b[43m \u001b[49m\u001b[43mbins\u001b[49m\u001b[43m \u001b[49m\u001b[38;5;241;43m=\u001b[39;49m\u001b[43m \u001b[49m\u001b[43mbins3\u001b[49m\u001b[43m)\u001b[49m\u001b[38;5;241;43m.\u001b[39;49m\u001b[43mvalue_counts\u001b[49m\u001b[43m(\u001b[49m\u001b[43mnormalize\u001b[49m\u001b[43m \u001b[49m\u001b[38;5;241;43m=\u001b[39;49m\u001b[43m \u001b[49m\u001b[38;5;28;43;01mTrue\u001b[39;49;00m\u001b[43m)\u001b[49m\u001b[38;5;241m.\u001b[39msort_index()\n",
      "\u001b[1;31mTypeError\u001b[0m: value_counts() got an unexpected keyword argument 'normalize'"
     ]
    }
   ],
   "source": [
    "pd.cut(data2, bins = bins3).value_counts(normalize = True).sort_index()"
   ]
  },
  {
   "cell_type": "code",
   "execution_count": 19,
   "id": "2d1822b9",
   "metadata": {},
   "outputs": [
    {
     "data": {
      "text/plain": [
       "(0.9, 1.1]    14\n",
       "(1.1, 1.3]    18\n",
       "(1.3, 1.5]    21\n",
       "(1.5, 1.7]    24\n",
       "(1.7, 1.9]    25\n",
       "dtype: int64"
      ]
     },
     "execution_count": 19,
     "metadata": {},
     "output_type": "execute_result"
    }
   ],
   "source": [
    "pd.cut(data2, bins = bins3).value_counts().sort_index().cumsum()"
   ]
  },
  {
   "cell_type": "markdown",
   "id": "a327e373",
   "metadata": {},
   "source": [
    "Avec une liste on peut obtenir les tableaux de fréquences absolues et de celles cumulées, mais pas celui des fréquences relatives. \n",
    "\n",
    "Donc il vaut mieux d’utiliser une série et pas une liste."
   ]
  },
  {
   "cell_type": "code",
   "execution_count": null,
   "id": "2bd259d7",
   "metadata": {},
   "outputs": [],
   "source": []
  },
  {
   "cell_type": "markdown",
   "id": "2bc2233d",
   "metadata": {},
   "source": [
    "**Exercise 2**"
   ]
  },
  {
   "cell_type": "code",
   "execution_count": 20,
   "id": "37cd8b37",
   "metadata": {},
   "outputs": [],
   "source": [
    "data_qual = pd.Series(['O', 'A', 'B', 'O', 'O', 'O', 'O', 'O', 'AB', 'O', 'O', 'O', 'O', 'B', 'O', 'B', 'O', 'A', 'A', 'A', 'O', 'A', 'A', 'B', 'AB', 'A',\n",
    "'B', 'A', 'A', 'A', 'A', 'O', 'A', 'O', 'O', 'A', 'A', 'O', 'O', 'A', 'O', 'O', 'O', 'O', 'A', 'A', 'A', 'A', 'A', 'AB'])"
   ]
  },
  {
   "cell_type": "code",
   "execution_count": 21,
   "id": "3bb6c67c",
   "metadata": {},
   "outputs": [
    {
     "data": {
      "text/plain": [
       "A     20\n",
       "AB     3\n",
       "B      5\n",
       "O     22\n",
       "dtype: int64"
      ]
     },
     "execution_count": 21,
     "metadata": {},
     "output_type": "execute_result"
    }
   ],
   "source": [
    "data_qual.value_counts().sort_index()"
   ]
  },
  {
   "cell_type": "code",
   "execution_count": null,
   "id": "90fc3fec",
   "metadata": {},
   "outputs": [],
   "source": []
  },
  {
   "cell_type": "markdown",
   "id": "d7310836",
   "metadata": {},
   "source": [
    "**Exercise 3**"
   ]
  },
  {
   "cell_type": "code",
   "execution_count": 22,
   "id": "9a6bb60a",
   "metadata": {},
   "outputs": [
    {
     "data": {
      "text/plain": [
       "array([1. , 1.2, 1.4, 1.6, 1.8, 2. ])"
      ]
     },
     "execution_count": 22,
     "metadata": {},
     "output_type": "execute_result"
    }
   ],
   "source": [
    "bins4 = np.linspace(1, 2, num = 6)\n",
    "bins4"
   ]
  },
  {
   "cell_type": "code",
   "execution_count": 26,
   "id": "70f3c69b",
   "metadata": {},
   "outputs": [
    {
     "data": {
      "image/png": "[encoded data removed]",
      "text/plain": [
       "<Figure size 432x288 with 1 Axes>"
      ]
     },
     "metadata": {
      "needs_background": "light"
     },
     "output_type": "display_data"
    }
   ],
   "source": [
    "plt.hist(data2, bins = bins4, edgecolor =\"black\");"
   ]
  },
  {
   "cell_type": "code",
   "execution_count": null,
   "id": "b0ae7ab4",
   "metadata": {},
   "outputs": [],
   "source": []
  },
  {
   "cell_type": "markdown",
   "id": "b1edf22e",
   "metadata": {},
   "source": [
    "**Exercise 4**"
   ]
  },
  {
   "cell_type": "markdown",
   "id": "089e1dfe",
   "metadata": {},
   "source": [
    "On peut se demander pourquoi ne pas utiliser un simple histogramme, au lieu d’un diagramme à barres qui nécessite de calculer les fréquences des données. \n",
    "\n",
    "Voici l’histogramme."
   ]
  },
  {
   "cell_type": "code",
   "execution_count": 25,
   "id": "72bec3fb",
   "metadata": {
    "scrolled": true
   },
   "outputs": [
    {
     "data": {
      "image/png": "[encoded data removed]",
      "text/plain": [
       "<Figure size 432x288 with 1 Axes>"
      ]
     },
     "metadata": {
      "needs_background": "light"
     },
     "output_type": "display_data"
    }
   ],
   "source": [
    "plt.hist(data_qual, edgecolor = \"black\");"
   ]
  },
  {
   "cell_type": "markdown",
   "id": "c60b9c9e",
   "metadata": {},
   "source": [
    "Ce n’est pas trop mal. Il y a des espaces entre le colonnes et les étiquettes des classes ne sont pas centrées. Mais les colonnes sont déjà ordonnées de la plus à la moins fréquente."
   ]
  },
  {
   "cell_type": "markdown",
   "id": "c61102b9",
   "metadata": {},
   "source": [
    "En effet le fait que les colonnes soient ordonnées est dû au hasard, car dans la liste des données la valeur O apparaissait avant les autres, ensuite A, B et AB.\n",
    "\n",
    "Si on change l’ordre des données, cela va changer aussi l’ordre des colonnes.\t "
   ]
  },
  {
   "cell_type": "code",
   "execution_count": 36,
   "id": "a4a15cfd",
   "metadata": {},
   "outputs": [],
   "source": [
    "data_qual2 = pd.Series(['B', 'O', 'AB', 'A', 'B', 'O', 'O', 'O', 'O', 'O', 'AB', 'O', 'O', 'O', 'O', 'O', 'B', 'O', 'A', 'A', 'A', 'O', 'A', 'A', 'B', 'AB', 'A',\n",
    "'B', 'A', 'A', 'A', 'A', 'O', 'A', 'O', 'O', 'A', 'A', 'O', 'O', 'A', 'O', 'O', 'O', 'O', 'A', 'A', 'A', 'A', 'A'])"
   ]
  },
  {
   "cell_type": "code",
   "execution_count": 37,
   "id": "51230e0f",
   "metadata": {},
   "outputs": [
    {
     "data": {
      "image/png": "[encoded data removed]",
      "text/plain": [
       "<Figure size 432x288 with 1 Axes>"
      ]
     },
     "metadata": {
      "needs_background": "light"
     },
     "output_type": "display_data"
    }
   ],
   "source": [
    "plt.hist(data_qual2, edgecolor = \"black\");"
   ]
  },
  {
   "cell_type": "markdown",
   "id": "7bca3594",
   "metadata": {},
   "source": [
    "Donc on est obligés à utiliser la méthode plus laborieuse avec les diagrammes à barres."
   ]
  },
  {
   "cell_type": "code",
   "execution_count": 27,
   "id": "6c89901e",
   "metadata": {},
   "outputs": [
    {
     "data": {
      "text/plain": [
       "Counter({'O': 22, 'A': 20, 'B': 5, 'AB': 3})"
      ]
     },
     "execution_count": 27,
     "metadata": {},
     "output_type": "execute_result"
    }
   ],
   "source": [
    "import collections\n",
    "\n",
    "diction = collections.Counter(data_qual)\n",
    "diction"
   ]
  },
  {
   "cell_type": "code",
   "execution_count": 28,
   "id": "e122e115",
   "metadata": {},
   "outputs": [
    {
     "data": {
      "text/plain": [
       "['O', 'A', 'B', 'AB']"
      ]
     },
     "execution_count": 28,
     "metadata": {},
     "output_type": "execute_result"
    }
   ],
   "source": [
    "noms = list(diction.keys())\n",
    "noms"
   ]
  },
  {
   "cell_type": "code",
   "execution_count": 29,
   "id": "90ccf17c",
   "metadata": {},
   "outputs": [
    {
     "data": {
      "text/plain": [
       "[22, 20, 5, 3]"
      ]
     },
     "execution_count": 29,
     "metadata": {},
     "output_type": "execute_result"
    }
   ],
   "source": [
    "freq = list(diction.values())\n",
    "freq"
   ]
  },
  {
   "cell_type": "code",
   "execution_count": 30,
   "id": "82f580da",
   "metadata": {},
   "outputs": [
    {
     "data": {
      "image/png": "[encoded data removed]",
      "text/plain": [
       "<Figure size 432x288 with 1 Axes>"
      ]
     },
     "metadata": {
      "needs_background": "light"
     },
     "output_type": "display_data"
    }
   ],
   "source": [
    "plt.bar(range(len(diction)), freq, tick_label = noms, width = 1.0, edgecolor = \"black\");"
   ]
  },
  {
   "cell_type": "markdown",
   "id": "6bc870b9",
   "metadata": {},
   "source": [
    "Comme le dictionnaire obtenu est déjà trié, on n’a pas besoin de le trier."
   ]
  },
  {
   "cell_type": "markdown",
   "id": "01237cdb",
   "metadata": {},
   "source": [
    "Mais si on prend la liste des données où on a changé l’ordre, alors on est obligé à trier le dictionnaire."
   ]
  },
  {
   "cell_type": "code",
   "execution_count": 38,
   "id": "0e0485bc",
   "metadata": {},
   "outputs": [
    {
     "data": {
      "image/png": "[encoded data removed]",
      "text/plain": [
       "<Figure size 432x288 with 1 Axes>"
      ]
     },
     "metadata": {
      "needs_background": "light"
     },
     "output_type": "display_data"
    }
   ],
   "source": [
    "diction2 = collections.Counter(data_qual2)\n",
    "noms2 = list(diction2.keys())\n",
    "freq2 = list(diction2.values())\n",
    "\n",
    "plt.bar(range(len(diction2)), freq2, tick_label = noms2, width = 1.0, edgecolor = \"black\");"
   ]
  },
  {
   "cell_type": "code",
   "execution_count": 40,
   "id": "76bb1a2b",
   "metadata": {},
   "outputs": [
    {
     "data": {
      "text/plain": [
       "{'O': 22, 'A': 20, 'B': 5, 'AB': 3}"
      ]
     },
     "execution_count": 40,
     "metadata": {},
     "output_type": "execute_result"
    }
   ],
   "source": [
    "dict_ord = dict(sorted(diction2.items(), key = lambda x:x[1], reverse = True))\n",
    "dict_ord"
   ]
  },
  {
   "cell_type": "code",
   "execution_count": 41,
   "id": "fd410c4f",
   "metadata": {},
   "outputs": [
    {
     "data": {
      "image/png": "[encoded data removed]",
      "text/plain": [
       "<Figure size 432x288 with 1 Axes>"
      ]
     },
     "metadata": {
      "needs_background": "light"
     },
     "output_type": "display_data"
    }
   ],
   "source": [
    "noms_tri = list(dict_ord.keys())\n",
    "freq_tri = list(dict_ord.values())\n",
    "\n",
    "plt.bar(range(len(dict_ord)), freq_tri, tick_label = noms_tri, width = 1.0, edgecolor = \"black\");"
   ]
  },
  {
   "cell_type": "code",
   "execution_count": null,
   "id": "172c77da",
   "metadata": {},
   "outputs": [],
   "source": []
  }
 ],
 "metadata": {
  "kernelspec": {
   "display_name": "Python 3 (ipykernel)",
   "language": "python",
   "name": "python3"
  },
  "language_info": {
   "codemirror_mode": {
    "name": "ipython",
    "version": 3
   },
   "file_extension": ".py",
   "mimetype": "text/x-python",
   "name": "python",
   "nbconvert_exporter": "python",
   "pygments_lexer": "ipython3",
   "version": "3.9.12"
  }
 },
 "nbformat": 4,
 "nbformat_minor": 5
}
