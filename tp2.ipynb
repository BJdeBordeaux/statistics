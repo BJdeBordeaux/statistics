{
 "cells": [
  {
   "cell_type": "markdown",
   "metadata": {},
   "source": [
    "# TD 2"
   ]
  },
  {
   "cell_type": "code",
   "execution_count": 12,
   "metadata": {},
   "outputs": [],
   "source": [
    "import statistics as st\n",
    "import numpy as np\n",
    "import matplotlib.pyplot as plt"
   ]
  },
  {
   "cell_type": "code",
   "execution_count": 13,
   "metadata": {},
   "outputs": [],
   "source": [
    "def moy_med_mode(liste):\n",
    "    import statistics as st\n",
    "\n",
    "    moy = st.mean(liste)\n",
    "    med = st.median(liste)\n",
    "    mode = st.multimode(liste)\n",
    "    if set(mode) == set(liste):\n",
    "        mode = 'Aucune'\n",
    "    print(\"La moyenne est de\", moy)\n",
    "    print(\"La médiane est de\", med)\n",
    "    print(\"La mode est de\", mode)\n",
    "\n",
    "    return moy, med, mode\n"
   ]
  },
  {
   "cell_type": "code",
   "execution_count": 14,
   "metadata": {},
   "outputs": [],
   "source": [
    "def rng_var_stdev_cofv_et_p(liste_data):\n",
    "    import statistics as st\n",
    "\n",
    "    m = st.mean(liste_data)\n",
    "    rng = max(liste_data) - min(liste_data)\n",
    "    var = st.variance(liste_data)\n",
    "    pvar = st.pvariance(liste_data)\n",
    "    stdev = st.stdev(liste_data)\n",
    "    pstdev = st.pstdev(liste_data)\n",
    "    coffv = st.stdev(liste_data) / abs(m)\n",
    "    pcoffv = st.pstdev(liste_data) / abs(m)\n",
    "    # print(\"la moyenne est de {:.3f}\".format(m))\n",
    "    print(\"l'étendu est de {}\".format(rng))\n",
    "    print(\"la variance population est de {:.2f}\".format(pvar))\n",
    "    print(\"la variance échantillon est de {:.2f}\".format(var))\n",
    "    print(\"l'écart type population est de {:.2f}\".format(pstdev))\n",
    "    print(\"l'écart type échantillon est de {:.2f}\".format(stdev))\n",
    "    print(\"le coefficient de variation population est de {:.1f}\".format(pcoffv*100))\n",
    "    print(\"le coefficient de variation échantillon est de {:.1f}\".format(coffv*100))\n",
    "    \n",
    "    return rng, pvar, var, pstdev, stdev, pcoffv, coffv"
   ]
  },
  {
   "cell_type": "code",
   "execution_count": 15,
   "metadata": {},
   "outputs": [],
   "source": [
    "def coteZ(data, m, etc):\n",
    "    z = (data - m) / etc\n",
    "    print(\"la valeur de z est de {:.2f}\".format(z))\n",
    "    return z"
   ]
  },
  {
   "cell_type": "markdown",
   "metadata": {},
   "source": [
    "## EX 1"
   ]
  },
  {
   "cell_type": "markdown",
   "metadata": {},
   "source": []
  },
  {
   "cell_type": "markdown",
   "metadata": {},
   "source": [
    "### (a)"
   ]
  },
  {
   "cell_type": "code",
   "execution_count": 16,
   "metadata": {},
   "outputs": [
    {
     "name": "stdout",
     "output_type": "stream",
     "text": [
      "La moyenne est de 49\n",
      "La médiane est de 47.0\n",
      "La mode est de [65]\n"
     ]
    },
    {
     "data": {
      "text/plain": [
       "(49, 47.0, [65])"
      ]
     },
     "execution_count": 16,
     "metadata": {},
     "output_type": "execute_result"
    }
   ],
   "source": [
    "data1 = [51, 65, 36, 43, 34, 65]\n",
    "moy_med_mode(data1)"
   ]
  },
  {
   "cell_type": "markdown",
   "metadata": {},
   "source": [
    "### (b)"
   ]
  },
  {
   "cell_type": "code",
   "execution_count": 17,
   "metadata": {},
   "outputs": [
    {
     "name": "stdout",
     "output_type": "stream",
     "text": [
      "La moyenne est de 13\n",
      "La médiane est de 13\n",
      "La mode est de [14]\n"
     ]
    },
    {
     "data": {
      "text/plain": [
       "(13, 13, [14])"
      ]
     },
     "execution_count": 17,
     "metadata": {},
     "output_type": "execute_result"
    }
   ],
   "source": [
    "data2 = [14, 13, 14, 11, 12, 13, 14]\n",
    "moy_med_mode(data2)"
   ]
  },
  {
   "cell_type": "markdown",
   "metadata": {},
   "source": [
    "### (c)"
   ]
  },
  {
   "cell_type": "code",
   "execution_count": 18,
   "metadata": {},
   "outputs": [
    {
     "name": "stdout",
     "output_type": "stream",
     "text": [
      "La moyenne est de 461\n",
      "La médiane est de 460.5\n",
      "La mode est de Aucune\n"
     ]
    },
    {
     "data": {
      "text/plain": [
       "(461, 460.5, 'Aucune')"
      ]
     },
     "execution_count": 18,
     "metadata": {},
     "output_type": "execute_result"
    }
   ],
   "source": [
    "data3 = [456, 463, 458, 467]\n",
    "moy_med_mode(data3)"
   ]
  },
  {
   "cell_type": "markdown",
   "metadata": {},
   "source": [
    "## EX 2"
   ]
  },
  {
   "cell_type": "markdown",
   "metadata": {},
   "source": [
    "### (a)"
   ]
  },
  {
   "cell_type": "code",
   "execution_count": 19,
   "metadata": {},
   "outputs": [
    {
     "name": "stdout",
     "output_type": "stream",
     "text": [
      "l'étendu est de 31\n",
      "la variance population est de 157.67\n",
      "la variance échantillon est de 189.20\n",
      "l'écart type population est de 12.56\n",
      "l'écart type échantillon est de 13.75\n",
      "le coefficient de variation population est de 25.6\n",
      "le coefficient de variation échantillon est de 28.1\n"
     ]
    },
    {
     "data": {
      "text/plain": [
       "(31,\n",
       " 157.66666666666666,\n",
       " 189.2,\n",
       " 12.556538801224908,\n",
       " 13.754999091239519,\n",
       " 0.25625589390254916,\n",
       " 0.28071426716815345)"
      ]
     },
     "execution_count": 19,
     "metadata": {},
     "output_type": "execute_result"
    }
   ],
   "source": [
    "rng_var_stdev_cofv_et_p(data1)"
   ]
  },
  {
   "cell_type": "markdown",
   "metadata": {},
   "source": [
    "### (b)"
   ]
  },
  {
   "cell_type": "code",
   "execution_count": 20,
   "metadata": {},
   "outputs": [
    {
     "name": "stdout",
     "output_type": "stream",
     "text": [
      "l'étendu est de 3\n",
      "la variance population est de 1.14\n",
      "la variance échantillon est de 1.33\n",
      "l'écart type population est de 1.07\n",
      "l'écart type échantillon est de 1.15\n",
      "le coefficient de variation population est de 8.2\n",
      "le coefficient de variation échantillon est de 8.9\n"
     ]
    },
    {
     "data": {
      "text/plain": [
       "(3,\n",
       " 1.1428571428571428,\n",
       " 1.3333333333333333,\n",
       " 1.0690449676496976,\n",
       " 1.1547005383792515,\n",
       " 0.08223422828074597,\n",
       " 0.0888231183368655)"
      ]
     },
     "execution_count": 20,
     "metadata": {},
     "output_type": "execute_result"
    }
   ],
   "source": [
    "rng_var_stdev_cofv_et_p(data2)"
   ]
  },
  {
   "cell_type": "markdown",
   "metadata": {},
   "source": [
    "### (c)"
   ]
  },
  {
   "cell_type": "code",
   "execution_count": 21,
   "metadata": {},
   "outputs": [
    {
     "name": "stdout",
     "output_type": "stream",
     "text": [
      "l'étendu est de 11\n",
      "la variance population est de 18.50\n",
      "la variance échantillon est de 24.67\n",
      "l'écart type population est de 4.30\n",
      "l'écart type échantillon est de 4.97\n",
      "le coefficient de variation population est de 0.9\n",
      "le coefficient de variation échantillon est de 1.1\n"
     ]
    },
    {
     "data": {
      "text/plain": [
       "(11,\n",
       " 18.5,\n",
       " 24.666666666666668,\n",
       " 4.301162633521313,\n",
       " 4.96655480858378,\n",
       " 0.009330070788549487,\n",
       " 0.01077343776265462)"
      ]
     },
     "execution_count": 21,
     "metadata": {},
     "output_type": "execute_result"
    }
   ],
   "source": [
    "rng_var_stdev_cofv_et_p(data3)"
   ]
  },
  {
   "cell_type": "markdown",
   "metadata": {},
   "source": [
    "### cote Z"
   ]
  },
  {
   "cell_type": "markdown",
   "metadata": {},
   "source": [
    "### (1)"
   ]
  },
  {
   "cell_type": "code",
   "execution_count": 22,
   "metadata": {},
   "outputs": [
    {
     "name": "stdout",
     "output_type": "stream",
     "text": [
      "la valeur de z est de 3.33\n"
     ]
    },
    {
     "data": {
      "text/plain": [
       "3.3333333333333335"
      ]
     },
     "execution_count": 22,
     "metadata": {},
     "output_type": "execute_result"
    }
   ],
   "source": [
    "coteZ(125, 75, 15)"
   ]
  },
  {
   "cell_type": "markdown",
   "metadata": {},
   "source": [
    "### (2)"
   ]
  },
  {
   "cell_type": "code",
   "execution_count": 23,
   "metadata": {},
   "outputs": [
    {
     "name": "stdout",
     "output_type": "stream",
     "text": [
      "la valeur de z est de -25.59\n"
     ]
    },
    {
     "data": {
      "text/plain": [
       "-25.58823529411764"
      ]
     },
     "execution_count": 23,
     "metadata": {},
     "output_type": "execute_result"
    }
   ],
   "source": [
    "coteZ(11.35, 15.7, 0.17)"
   ]
  },
  {
   "cell_type": "markdown",
   "metadata": {},
   "source": [
    "### (3)"
   ]
  },
  {
   "cell_type": "code",
   "execution_count": 24,
   "metadata": {},
   "outputs": [
    {
     "name": "stdout",
     "output_type": "stream",
     "text": [
      "la valeur de z est de -3.46\n"
     ]
    },
    {
     "data": {
      "text/plain": [
       "-3.4577603143418467"
      ]
     },
     "execution_count": 24,
     "metadata": {},
     "output_type": "execute_result"
    }
   ],
   "source": [
    "coteZ(1524, 1612, 25.45)"
   ]
  },
  {
   "cell_type": "markdown",
   "metadata": {},
   "source": [
    "## EX 3"
   ]
  },
  {
   "cell_type": "code",
   "execution_count": 25,
   "metadata": {},
   "outputs": [],
   "source": [
    "import numpy as np"
   ]
  },
  {
   "cell_type": "markdown",
   "metadata": {},
   "source": [
    "`interp = ['linear', 'lower', 'higher', 'midpoint', 'nearest']`"
   ]
  },
  {
   "cell_type": "code",
   "execution_count": 26,
   "metadata": {},
   "outputs": [],
   "source": [
    "data3_1 = [*range(1, 100)]\n",
    "data3_2 = [*range(1, 101)]\n",
    "data3_3 = [*range(1, 49)]\n",
    "data3_4 = [*range(1, 51)]\n",
    "interp = ['linear', 'lower', 'higher', 'midpoint', 'nearest']"
   ]
  },
  {
   "cell_type": "code",
   "execution_count": 27,
   "metadata": {},
   "outputs": [
    {
     "name": "stdout",
     "output_type": "stream",
     "text": [
      "linear\n",
      "p1 = 1.98, p2 = 2.96, p98 = 97.03999999999999, p99 = 98.02\n",
      "p1 = 1.99, p2 = 2.98, p98 = 98.02, p99 = 99.01\n",
      "p1 = 1.47, p2 = 1.94, p98 = 47.06, p99 = 47.53\n",
      "p1 = 1.49, p2 = 1.98, p98 = 49.019999999999996, p99 = 49.51\n",
      "lower\n",
      "p1 = 1, p2 = 2, p98 = 97, p99 = 98\n",
      "p1 = 1, p2 = 2, p98 = 98, p99 = 99\n",
      "p1 = 1, p2 = 1, p98 = 47, p99 = 47\n",
      "p1 = 1, p2 = 1, p98 = 49, p99 = 49\n",
      "higher\n",
      "p1 = 2, p2 = 3, p98 = 98, p99 = 99\n",
      "p1 = 2, p2 = 3, p98 = 99, p99 = 100\n",
      "p1 = 2, p2 = 2, p98 = 48, p99 = 48\n",
      "p1 = 2, p2 = 2, p98 = 50, p99 = 50\n",
      "midpoint\n",
      "p1 = 1.5, p2 = 2.5, p98 = 97.5, p99 = 98.5\n",
      "p1 = 1.5, p2 = 2.5, p98 = 98.5, p99 = 99.5\n",
      "p1 = 1.5, p2 = 1.5, p98 = 47.5, p99 = 47.5\n",
      "p1 = 1.5, p2 = 1.5, p98 = 49.5, p99 = 49.5\n",
      "nearest\n",
      "p1 = 2, p2 = 3, p98 = 97, p99 = 98\n",
      "p1 = 2, p2 = 3, p98 = 98, p99 = 99\n",
      "p1 = 1, p2 = 2, p98 = 47, p99 = 48\n",
      "p1 = 1, p2 = 2, p98 = 49, p99 = 50\n"
     ]
    }
   ],
   "source": [
    "for inter in interp:\n",
    "    print(inter)\n",
    "    # for data3_1\n",
    "    print(\"p1 = {}, p2 = {}, p98 = {}, p99 = {}\".format(np.percentile(data3_1, 1, method=inter), np.percentile(data3_1, 2, method=inter), np.percentile(data3_1, 98, method=inter), np.percentile(data3_1, 99, method=inter)))\n",
    "    # for data3_2\n",
    "    print(\"p1 = {}, p2 = {}, p98 = {}, p99 = {}\".format(np.percentile(data3_2, 1, method=inter), np.percentile(data3_2, 2, method=inter), np.percentile(data3_2, 98, method=inter), np.percentile(data3_2, 99, method=inter)))\n",
    "    # for data3_3\n",
    "    print(\"p1 = {}, p2 = {}, p98 = {}, p99 = {}\".format(np.percentile(data3_3, 1, method=inter), np.percentile(data3_3, 2, method=inter), np.percentile(data3_3, 98, method=inter), np.percentile(data3_3, 99, method=inter)))\n",
    "    # for data3_4\n",
    "    print(\"p1 = {}, p2 = {}, p98 = {}, p99 = {}\".format(np.percentile(data3_4, 1, method=inter), np.percentile(data3_4, 2, method=inter), np.percentile(data3_4, 98, method=inter), np.percentile(data3_4, 99, method=inter)))"
   ]
  },
  {
   "cell_type": "markdown",
   "metadata": {},
   "source": [
    "aucun; midpoint; aucun; lower"
   ]
  },
  {
   "cell_type": "markdown",
   "metadata": {},
   "source": [
    "## EX 4"
   ]
  },
  {
   "cell_type": "markdown",
   "metadata": {},
   "source": [
    "### (a)"
   ]
  },
  {
   "cell_type": "code",
   "execution_count": 28,
   "metadata": {},
   "outputs": [],
   "source": [
    "def quartiles(data):\n",
    "    q1 = np.percentile(data, 25)\n",
    "    q2 = np.percentile(data, 50)\n",
    "    q3 = np.percentile(data, 75)\n",
    "    print(\"Q1 = {}, Q2 = {}, Q3 = {}\".format(q1, q2, q3))\n",
    "    return q1, q2, q3"
   ]
  },
  {
   "cell_type": "markdown",
   "metadata": {},
   "source": [
    "### (b)"
   ]
  },
  {
   "cell_type": "code",
   "execution_count": 29,
   "metadata": {},
   "outputs": [
    {
     "name": "stdout",
     "output_type": "stream",
     "text": [
      "Q1 = 68.0, Q2 = 74.0, Q3 = 80.0\n"
     ]
    },
    {
     "data": {
      "text/plain": [
       "(68.0, 74.0, 80.0)"
      ]
     },
     "execution_count": 29,
     "metadata": {},
     "output_type": "execute_result"
    }
   ],
   "source": [
    "data4_b = [76, 72, 88, 60, 72, 68, 80, 64, 68, 68, 80, 76, 68, 72, 96, 72, 68, 72, 64, 80, 64, 80, 76,\n",
    "76, 76, 80, 104, 88, 60, 76, 72, 72, 88, 80, 60, 72, 88, 88, 124, 64]\n",
    "\n",
    "quartiles(data4_b)"
   ]
  },
  {
   "cell_type": "markdown",
   "metadata": {},
   "source": [
    "### (c)"
   ]
  },
  {
   "cell_type": "markdown",
   "metadata": {},
   "source": [
    "C'est le même (statistics.median = Q2)"
   ]
  },
  {
   "cell_type": "code",
   "execution_count": 30,
   "metadata": {},
   "outputs": [
    {
     "name": "stdout",
     "output_type": "stream",
     "text": [
      "74.0\n"
     ]
    }
   ],
   "source": [
    "print(st.median(data4_b))"
   ]
  },
  {
   "cell_type": "markdown",
   "metadata": {},
   "source": [
    "### (e)"
   ]
  },
  {
   "cell_type": "code",
   "execution_count": 35,
   "metadata": {},
   "outputs": [],
   "source": [
    "def interval_non_aberrant(data):\n",
    "    q1, q2, q3 = quartiles(data)\n",
    "    sup = q3 + 1.5 * (q3 - q1)\n",
    "    inf = q1 - 1.5 * (q3 - q1)\n",
    "    print(\"l'intervalle non aberrant est de {} à {}\".format(inf, sup))\n",
    "    return inf, sup\n",
    "\n",
    "def vals_aberrantes(data):\n",
    "    inf, sup = interval_non_aberrant(data)\n",
    "    res = list(filter(lambda x: x < inf or x > sup, data))\n",
    "    print(\"les valeurs aberrantes sont {}\".format(res))\n",
    "    return res"
   ]
  },
  {
   "cell_type": "markdown",
   "metadata": {},
   "source": [
    "### (f)"
   ]
  },
  {
   "cell_type": "code",
   "execution_count": 36,
   "metadata": {},
   "outputs": [
    {
     "name": "stdout",
     "output_type": "stream",
     "text": [
      "Q1 = 68.0, Q2 = 74.0, Q3 = 80.0\n",
      "l'intervalle non aberrant est de 50.0 à 98.0\n",
      "les valeurs aberrantes sont [104, 124]\n"
     ]
    },
    {
     "data": {
      "text/plain": [
       "[104, 124]"
      ]
     },
     "execution_count": 36,
     "metadata": {},
     "output_type": "execute_result"
    }
   ],
   "source": [
    "vals_aberrantes(data4_b)"
   ]
  },
  {
   "cell_type": "markdown",
   "metadata": {},
   "source": [
    "### (g)"
   ]
  },
  {
   "cell_type": "code",
   "execution_count": 37,
   "metadata": {},
   "outputs": [
    {
     "data": {
      "text/plain": [
       "{'whiskers': [<matplotlib.lines.Line2D at 0x7fcb4fdff130>,\n",
       "  <matplotlib.lines.Line2D at 0x7fcb4fdff2b0>],\n",
       " 'caps': [<matplotlib.lines.Line2D at 0x7fcb4fdff5b0>,\n",
       "  <matplotlib.lines.Line2D at 0x7fcb4fdff820>],\n",
       " 'boxes': [<matplotlib.lines.Line2D at 0x7fcb4fdfee60>],\n",
       " 'medians': [<matplotlib.lines.Line2D at 0x7fcb4fdffaf0>],\n",
       " 'fliers': [<matplotlib.lines.Line2D at 0x7fcb4fdffdc0>],\n",
       " 'means': []}"
      ]
     },
     "execution_count": 37,
     "metadata": {},
     "output_type": "execute_result"
    },
    {
     "data": {
      "image/png": "[encoded data removed]",
      "text/plain": [
       "<Figure size 640x480 with 1 Axes>"
      ]
     },
     "metadata": {},
     "output_type": "display_data"
    }
   ],
   "source": [
    "plt.boxplot(data4_b, vert = False)"
   ]
  },
  {
   "cell_type": "markdown",
   "metadata": {},
   "source": [
    "## EX 5"
   ]
  },
  {
   "cell_type": "code",
   "execution_count": 38,
   "metadata": {},
   "outputs": [
    {
     "name": "stdout",
     "output_type": "stream",
     "text": [
      "Q1 = 60.0, Q2 = 66.0, Q3 = 76.0\n",
      "l'intervalle non aberrant est de 36.0 à 100.0\n",
      "les valeurs aberrantes sont []\n"
     ]
    },
    {
     "data": {
      "text/plain": [
       "{'whiskers': [<matplotlib.lines.Line2D at 0x7fcb4fc718d0>,\n",
       "  <matplotlib.lines.Line2D at 0x7fcb4fc71ba0>],\n",
       " 'caps': [<matplotlib.lines.Line2D at 0x7fcb4fc71e70>,\n",
       "  <matplotlib.lines.Line2D at 0x7fcb4fc72140>],\n",
       " 'boxes': [<matplotlib.lines.Line2D at 0x7fcb4fc71600>],\n",
       " 'medians': [<matplotlib.lines.Line2D at 0x7fcb4fc72410>],\n",
       " 'fliers': [<matplotlib.lines.Line2D at 0x7fcb4fc726e0>],\n",
       " 'means': []}"
      ]
     },
     "execution_count": 38,
     "metadata": {},
     "output_type": "execute_result"
    },
    {
     "data": {
      "image/png": "[encoded data removed]",
      "text/plain": [
       "<Figure size 640x480 with 1 Axes>"
      ]
     },
     "metadata": {},
     "output_type": "display_data"
    }
   ],
   "source": [
    "data5 = [68, 64, 88, 72, 64, 72, 60, 88, 76, 60, 96, 72, 56, 64, 60, 64, 84, 76, 84, 88, 72, 56, 68,\n",
    "64, 60, 68, 60, 60, 56, 84, 72, 84, 88, 56, 64, 56, 56, 60, 64, 72]\n",
    "vals_aberrantes(data5)\n",
    "plt.boxplot(data5, vert = False)"
   ]
  }
 ],
 "metadata": {
  "kernelspec": {
   "display_name": "Python 3.10.4 64-bit",
   "language": "python",
   "name": "python3"
  },
  "language_info": {
   "codemirror_mode": {
    "name": "ipython",
    "version": 3
   },
   "file_extension": ".py",
   "mimetype": "text/x-python",
   "name": "python",
   "nbconvert_exporter": "python",
   "pygments_lexer": "ipython3",
   "version": "3.10.4"
  },
  "orig_nbformat": 4,
  "vscode": {
   "interpreter": {
    "hash": "916dbcbb3f70747c44a77c7bcd40155683ae19c65e1c03b4aa3499c5328201f1"
   }
  }
 },
 "nbformat": 4,
 "nbformat_minor": 2
}
